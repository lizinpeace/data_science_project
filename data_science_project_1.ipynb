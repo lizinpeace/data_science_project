{
 "cells": [
  {
   "cell_type": "markdown",
   "id": "6f310171",
   "metadata": {},
   "source": [
    "# Airline Passenger Satisfaction"
   ]
  },
  {
   "cell_type": "markdown",
   "id": "efe37d5a",
   "metadata": {},
   "source": [
    "В данном датасете представлены данные опроса удовлетворенности авиапассажиров. На основе анализа данных можно выяснить какие факторы влияют на уровень удовлетворенности авиаперевозками"
   ]
  },
  {
   "cell_type": "markdown",
   "id": "f2946ef5",
   "metadata": {},
   "source": [
    "## Обзор данных"
   ]
  },
  {
   "cell_type": "markdown",
   "id": "5ef7ee2d",
   "metadata": {},
   "source": [
    "* id - идентификатор пассажира\n",
    "* Gender - пол пассажиров\n",
    "* Customer Type - тип клиента\n",
    "* Age - возраст пассажиров\n",
    "* Type of Travel - цель полета пассажиров \n",
    "* Class - класс обслуживания \n",
    "* Flight distance - расстояние полета\n",
    "* Inflight wifi service - уровень удовлетворенности услугой Wi-Fi на борту\n",
    "* Departure/Arrival time convenient - уровень удовлетворенности временем отправления/прибытия\n",
    "* Ease of Online booking - уровень удовлетворенности онлайн-бронированием\n",
    "* Gate location - уровень удовлетворенности расположением выхода на посадку\n",
    "* Food and drink - уровень удовлетворенности едой и напитками\n",
    "* Online boarding - уровень удовлетворенности онлайн-регистрацией\n",
    "* Seat comfort - удовлетворенность уровнем комфорта сиденья\n",
    "* Inflight entertainment - уровень удовлетворенности развлечениями на борту\n",
    "* On-board service - уровень удовлетворенности обслуживанием на борту\n",
    "* Leg room service - уровень удовлетворенности обслуживанием сервиса для ног\n",
    "* Baggage handling - уровень удовлетворенности доставки багажа\n",
    "* Check-in service - уровень удовлетворенности услугой регистрации\n",
    "* Inflight service - уровень удовлетворенности обслуживанием на борту\n",
    "* Cleanliness - уровень удовлетворенности чистотой\n",
    "* Departure Delay in Minutes - Задержка отправления в минутах\n",
    "* Arrival Delay in Minutes - Задержка прибытия в минутах\n",
    "* Satisfaction - уровень удовлетворенности авиакомпанией"
   ]
  },
  {
   "cell_type": "markdown",
   "id": "16495743",
   "metadata": {},
   "source": [
    "**Знакомство с данными**"
   ]
  },
  {
   "cell_type": "markdown",
   "id": "f5ac3fd4",
   "metadata": {},
   "source": [
    "Первоначально выгрузим необходимые библиотеки для исследования данных"
   ]
  },
  {
   "cell_type": "code",
   "execution_count": 1,
   "id": "39beb2a4",
   "metadata": {},
   "outputs": [],
   "source": [
    "import pandas as pd\n",
    "import numpy as np\n",
    "import seaborn as sns\n",
    "import matplotlib.pyplot as plt\n",
    "import scipy.stats "
   ]
  },
  {
   "cell_type": "markdown",
   "id": "1a6d9e8f",
   "metadata": {},
   "source": [
    "Выгрузим датасет и сохраним его в переменной `pas_satisfaction`"
   ]
  },
  {
   "cell_type": "code",
   "execution_count": 2,
   "id": "f8514880",
   "metadata": {},
   "outputs": [],
   "source": [
    "pas_satisfaction = pd.read_csv('test.csv', sep = ',')"
   ]
  },
  {
   "cell_type": "markdown",
   "id": "b57cc744",
   "metadata": {},
   "source": [
    "Посмотрим на названия колонок, первые 10 строк таблицы и общую информацию"
   ]
  },
  {
   "cell_type": "code",
   "execution_count": 3,
   "id": "42e49911",
   "metadata": {},
   "outputs": [
    {
     "data": {
      "text/plain": [
       "Index(['Unnamed: 0', 'id', 'Gender', 'Customer Type', 'Age', 'Type of Travel',\n",
       "       'Class', 'Flight Distance', 'Inflight wifi service',\n",
       "       'Departure/Arrival time convenient', 'Ease of Online booking',\n",
       "       'Gate location', 'Food and drink', 'Online boarding', 'Seat comfort',\n",
       "       'Inflight entertainment', 'On-board service', 'Leg room service',\n",
       "       'Baggage handling', 'Checkin service', 'Inflight service',\n",
       "       'Cleanliness', 'Departure Delay in Minutes', 'Arrival Delay in Minutes',\n",
       "       'satisfaction'],\n",
       "      dtype='object')"
      ]
     },
     "execution_count": 3,
     "metadata": {},
     "output_type": "execute_result"
    }
   ],
   "source": [
    "pas_satisfaction.columns"
   ]
  },
  {
   "cell_type": "code",
   "execution_count": 4,
   "id": "1dad7e1f",
   "metadata": {},
   "outputs": [
    {
     "data": {
      "text/html": [
       "<div>\n",
       "<style scoped>\n",
       "    .dataframe tbody tr th:only-of-type {\n",
       "        vertical-align: middle;\n",
       "    }\n",
       "\n",
       "    .dataframe tbody tr th {\n",
       "        vertical-align: top;\n",
       "    }\n",
       "\n",
       "    .dataframe thead th {\n",
       "        text-align: right;\n",
       "    }\n",
       "</style>\n",
       "<table border=\"1\" class=\"dataframe\">\n",
       "  <thead>\n",
       "    <tr style=\"text-align: right;\">\n",
       "      <th></th>\n",
       "      <th>Unnamed: 0</th>\n",
       "      <th>id</th>\n",
       "      <th>Gender</th>\n",
       "      <th>Customer Type</th>\n",
       "      <th>Age</th>\n",
       "      <th>Type of Travel</th>\n",
       "      <th>Class</th>\n",
       "      <th>Flight Distance</th>\n",
       "      <th>Inflight wifi service</th>\n",
       "      <th>Departure/Arrival time convenient</th>\n",
       "      <th>...</th>\n",
       "      <th>Inflight entertainment</th>\n",
       "      <th>On-board service</th>\n",
       "      <th>Leg room service</th>\n",
       "      <th>Baggage handling</th>\n",
       "      <th>Checkin service</th>\n",
       "      <th>Inflight service</th>\n",
       "      <th>Cleanliness</th>\n",
       "      <th>Departure Delay in Minutes</th>\n",
       "      <th>Arrival Delay in Minutes</th>\n",
       "      <th>satisfaction</th>\n",
       "    </tr>\n",
       "  </thead>\n",
       "  <tbody>\n",
       "    <tr>\n",
       "      <th>0</th>\n",
       "      <td>0</td>\n",
       "      <td>19556</td>\n",
       "      <td>Female</td>\n",
       "      <td>Loyal Customer</td>\n",
       "      <td>52</td>\n",
       "      <td>Business travel</td>\n",
       "      <td>Eco</td>\n",
       "      <td>160</td>\n",
       "      <td>5</td>\n",
       "      <td>4</td>\n",
       "      <td>...</td>\n",
       "      <td>5</td>\n",
       "      <td>5</td>\n",
       "      <td>5</td>\n",
       "      <td>5</td>\n",
       "      <td>2</td>\n",
       "      <td>5</td>\n",
       "      <td>5</td>\n",
       "      <td>50</td>\n",
       "      <td>44.0</td>\n",
       "      <td>satisfied</td>\n",
       "    </tr>\n",
       "    <tr>\n",
       "      <th>1</th>\n",
       "      <td>1</td>\n",
       "      <td>90035</td>\n",
       "      <td>Female</td>\n",
       "      <td>Loyal Customer</td>\n",
       "      <td>36</td>\n",
       "      <td>Business travel</td>\n",
       "      <td>Business</td>\n",
       "      <td>2863</td>\n",
       "      <td>1</td>\n",
       "      <td>1</td>\n",
       "      <td>...</td>\n",
       "      <td>4</td>\n",
       "      <td>4</td>\n",
       "      <td>4</td>\n",
       "      <td>4</td>\n",
       "      <td>3</td>\n",
       "      <td>4</td>\n",
       "      <td>5</td>\n",
       "      <td>0</td>\n",
       "      <td>0.0</td>\n",
       "      <td>satisfied</td>\n",
       "    </tr>\n",
       "    <tr>\n",
       "      <th>2</th>\n",
       "      <td>2</td>\n",
       "      <td>12360</td>\n",
       "      <td>Male</td>\n",
       "      <td>disloyal Customer</td>\n",
       "      <td>20</td>\n",
       "      <td>Business travel</td>\n",
       "      <td>Eco</td>\n",
       "      <td>192</td>\n",
       "      <td>2</td>\n",
       "      <td>0</td>\n",
       "      <td>...</td>\n",
       "      <td>2</td>\n",
       "      <td>4</td>\n",
       "      <td>1</td>\n",
       "      <td>3</td>\n",
       "      <td>2</td>\n",
       "      <td>2</td>\n",
       "      <td>2</td>\n",
       "      <td>0</td>\n",
       "      <td>0.0</td>\n",
       "      <td>neutral or dissatisfied</td>\n",
       "    </tr>\n",
       "    <tr>\n",
       "      <th>3</th>\n",
       "      <td>3</td>\n",
       "      <td>77959</td>\n",
       "      <td>Male</td>\n",
       "      <td>Loyal Customer</td>\n",
       "      <td>44</td>\n",
       "      <td>Business travel</td>\n",
       "      <td>Business</td>\n",
       "      <td>3377</td>\n",
       "      <td>0</td>\n",
       "      <td>0</td>\n",
       "      <td>...</td>\n",
       "      <td>1</td>\n",
       "      <td>1</td>\n",
       "      <td>1</td>\n",
       "      <td>1</td>\n",
       "      <td>3</td>\n",
       "      <td>1</td>\n",
       "      <td>4</td>\n",
       "      <td>0</td>\n",
       "      <td>6.0</td>\n",
       "      <td>satisfied</td>\n",
       "    </tr>\n",
       "    <tr>\n",
       "      <th>4</th>\n",
       "      <td>4</td>\n",
       "      <td>36875</td>\n",
       "      <td>Female</td>\n",
       "      <td>Loyal Customer</td>\n",
       "      <td>49</td>\n",
       "      <td>Business travel</td>\n",
       "      <td>Eco</td>\n",
       "      <td>1182</td>\n",
       "      <td>2</td>\n",
       "      <td>3</td>\n",
       "      <td>...</td>\n",
       "      <td>2</td>\n",
       "      <td>2</td>\n",
       "      <td>2</td>\n",
       "      <td>2</td>\n",
       "      <td>4</td>\n",
       "      <td>2</td>\n",
       "      <td>4</td>\n",
       "      <td>0</td>\n",
       "      <td>20.0</td>\n",
       "      <td>satisfied</td>\n",
       "    </tr>\n",
       "    <tr>\n",
       "      <th>5</th>\n",
       "      <td>5</td>\n",
       "      <td>39177</td>\n",
       "      <td>Male</td>\n",
       "      <td>Loyal Customer</td>\n",
       "      <td>16</td>\n",
       "      <td>Business travel</td>\n",
       "      <td>Eco</td>\n",
       "      <td>311</td>\n",
       "      <td>3</td>\n",
       "      <td>3</td>\n",
       "      <td>...</td>\n",
       "      <td>5</td>\n",
       "      <td>4</td>\n",
       "      <td>3</td>\n",
       "      <td>1</td>\n",
       "      <td>1</td>\n",
       "      <td>2</td>\n",
       "      <td>5</td>\n",
       "      <td>0</td>\n",
       "      <td>0.0</td>\n",
       "      <td>satisfied</td>\n",
       "    </tr>\n",
       "    <tr>\n",
       "      <th>6</th>\n",
       "      <td>6</td>\n",
       "      <td>79433</td>\n",
       "      <td>Female</td>\n",
       "      <td>Loyal Customer</td>\n",
       "      <td>77</td>\n",
       "      <td>Business travel</td>\n",
       "      <td>Business</td>\n",
       "      <td>3987</td>\n",
       "      <td>5</td>\n",
       "      <td>5</td>\n",
       "      <td>...</td>\n",
       "      <td>5</td>\n",
       "      <td>5</td>\n",
       "      <td>5</td>\n",
       "      <td>5</td>\n",
       "      <td>4</td>\n",
       "      <td>5</td>\n",
       "      <td>3</td>\n",
       "      <td>0</td>\n",
       "      <td>0.0</td>\n",
       "      <td>satisfied</td>\n",
       "    </tr>\n",
       "    <tr>\n",
       "      <th>7</th>\n",
       "      <td>7</td>\n",
       "      <td>97286</td>\n",
       "      <td>Female</td>\n",
       "      <td>Loyal Customer</td>\n",
       "      <td>43</td>\n",
       "      <td>Business travel</td>\n",
       "      <td>Business</td>\n",
       "      <td>2556</td>\n",
       "      <td>2</td>\n",
       "      <td>2</td>\n",
       "      <td>...</td>\n",
       "      <td>4</td>\n",
       "      <td>4</td>\n",
       "      <td>4</td>\n",
       "      <td>4</td>\n",
       "      <td>5</td>\n",
       "      <td>4</td>\n",
       "      <td>3</td>\n",
       "      <td>77</td>\n",
       "      <td>65.0</td>\n",
       "      <td>satisfied</td>\n",
       "    </tr>\n",
       "    <tr>\n",
       "      <th>8</th>\n",
       "      <td>8</td>\n",
       "      <td>27508</td>\n",
       "      <td>Male</td>\n",
       "      <td>Loyal Customer</td>\n",
       "      <td>47</td>\n",
       "      <td>Business travel</td>\n",
       "      <td>Eco</td>\n",
       "      <td>556</td>\n",
       "      <td>5</td>\n",
       "      <td>2</td>\n",
       "      <td>...</td>\n",
       "      <td>5</td>\n",
       "      <td>2</td>\n",
       "      <td>2</td>\n",
       "      <td>5</td>\n",
       "      <td>3</td>\n",
       "      <td>3</td>\n",
       "      <td>5</td>\n",
       "      <td>1</td>\n",
       "      <td>0.0</td>\n",
       "      <td>satisfied</td>\n",
       "    </tr>\n",
       "    <tr>\n",
       "      <th>9</th>\n",
       "      <td>9</td>\n",
       "      <td>62482</td>\n",
       "      <td>Female</td>\n",
       "      <td>Loyal Customer</td>\n",
       "      <td>46</td>\n",
       "      <td>Business travel</td>\n",
       "      <td>Business</td>\n",
       "      <td>1744</td>\n",
       "      <td>2</td>\n",
       "      <td>2</td>\n",
       "      <td>...</td>\n",
       "      <td>4</td>\n",
       "      <td>4</td>\n",
       "      <td>4</td>\n",
       "      <td>4</td>\n",
       "      <td>5</td>\n",
       "      <td>4</td>\n",
       "      <td>4</td>\n",
       "      <td>28</td>\n",
       "      <td>14.0</td>\n",
       "      <td>satisfied</td>\n",
       "    </tr>\n",
       "  </tbody>\n",
       "</table>\n",
       "<p>10 rows × 25 columns</p>\n",
       "</div>"
      ],
      "text/plain": [
       "   Unnamed: 0     id  Gender      Customer Type  Age   Type of Travel  \\\n",
       "0           0  19556  Female     Loyal Customer   52  Business travel   \n",
       "1           1  90035  Female     Loyal Customer   36  Business travel   \n",
       "2           2  12360    Male  disloyal Customer   20  Business travel   \n",
       "3           3  77959    Male     Loyal Customer   44  Business travel   \n",
       "4           4  36875  Female     Loyal Customer   49  Business travel   \n",
       "5           5  39177    Male     Loyal Customer   16  Business travel   \n",
       "6           6  79433  Female     Loyal Customer   77  Business travel   \n",
       "7           7  97286  Female     Loyal Customer   43  Business travel   \n",
       "8           8  27508    Male     Loyal Customer   47  Business travel   \n",
       "9           9  62482  Female     Loyal Customer   46  Business travel   \n",
       "\n",
       "      Class  Flight Distance  Inflight wifi service  \\\n",
       "0       Eco              160                      5   \n",
       "1  Business             2863                      1   \n",
       "2       Eco              192                      2   \n",
       "3  Business             3377                      0   \n",
       "4       Eco             1182                      2   \n",
       "5       Eco              311                      3   \n",
       "6  Business             3987                      5   \n",
       "7  Business             2556                      2   \n",
       "8       Eco              556                      5   \n",
       "9  Business             1744                      2   \n",
       "\n",
       "   Departure/Arrival time convenient  ...  Inflight entertainment  \\\n",
       "0                                  4  ...                       5   \n",
       "1                                  1  ...                       4   \n",
       "2                                  0  ...                       2   \n",
       "3                                  0  ...                       1   \n",
       "4                                  3  ...                       2   \n",
       "5                                  3  ...                       5   \n",
       "6                                  5  ...                       5   \n",
       "7                                  2  ...                       4   \n",
       "8                                  2  ...                       5   \n",
       "9                                  2  ...                       4   \n",
       "\n",
       "   On-board service  Leg room service  Baggage handling  Checkin service  \\\n",
       "0                 5                 5                 5                2   \n",
       "1                 4                 4                 4                3   \n",
       "2                 4                 1                 3                2   \n",
       "3                 1                 1                 1                3   \n",
       "4                 2                 2                 2                4   \n",
       "5                 4                 3                 1                1   \n",
       "6                 5                 5                 5                4   \n",
       "7                 4                 4                 4                5   \n",
       "8                 2                 2                 5                3   \n",
       "9                 4                 4                 4                5   \n",
       "\n",
       "   Inflight service  Cleanliness  Departure Delay in Minutes  \\\n",
       "0                 5            5                          50   \n",
       "1                 4            5                           0   \n",
       "2                 2            2                           0   \n",
       "3                 1            4                           0   \n",
       "4                 2            4                           0   \n",
       "5                 2            5                           0   \n",
       "6                 5            3                           0   \n",
       "7                 4            3                          77   \n",
       "8                 3            5                           1   \n",
       "9                 4            4                          28   \n",
       "\n",
       "   Arrival Delay in Minutes             satisfaction  \n",
       "0                      44.0                satisfied  \n",
       "1                       0.0                satisfied  \n",
       "2                       0.0  neutral or dissatisfied  \n",
       "3                       6.0                satisfied  \n",
       "4                      20.0                satisfied  \n",
       "5                       0.0                satisfied  \n",
       "6                       0.0                satisfied  \n",
       "7                      65.0                satisfied  \n",
       "8                       0.0                satisfied  \n",
       "9                      14.0                satisfied  \n",
       "\n",
       "[10 rows x 25 columns]"
      ]
     },
     "execution_count": 4,
     "metadata": {},
     "output_type": "execute_result"
    }
   ],
   "source": [
    "pas_satisfaction.head(10)"
   ]
  },
  {
   "cell_type": "code",
   "execution_count": 5,
   "id": "3004ec93",
   "metadata": {},
   "outputs": [
    {
     "name": "stdout",
     "output_type": "stream",
     "text": [
      "<class 'pandas.core.frame.DataFrame'>\n",
      "RangeIndex: 25976 entries, 0 to 25975\n",
      "Data columns (total 25 columns):\n",
      " #   Column                             Non-Null Count  Dtype  \n",
      "---  ------                             --------------  -----  \n",
      " 0   Unnamed: 0                         25976 non-null  int64  \n",
      " 1   id                                 25976 non-null  int64  \n",
      " 2   Gender                             25976 non-null  object \n",
      " 3   Customer Type                      25976 non-null  object \n",
      " 4   Age                                25976 non-null  int64  \n",
      " 5   Type of Travel                     25976 non-null  object \n",
      " 6   Class                              25976 non-null  object \n",
      " 7   Flight Distance                    25976 non-null  int64  \n",
      " 8   Inflight wifi service              25976 non-null  int64  \n",
      " 9   Departure/Arrival time convenient  25976 non-null  int64  \n",
      " 10  Ease of Online booking             25976 non-null  int64  \n",
      " 11  Gate location                      25976 non-null  int64  \n",
      " 12  Food and drink                     25976 non-null  int64  \n",
      " 13  Online boarding                    25976 non-null  int64  \n",
      " 14  Seat comfort                       25976 non-null  int64  \n",
      " 15  Inflight entertainment             25976 non-null  int64  \n",
      " 16  On-board service                   25976 non-null  int64  \n",
      " 17  Leg room service                   25976 non-null  int64  \n",
      " 18  Baggage handling                   25976 non-null  int64  \n",
      " 19  Checkin service                    25976 non-null  int64  \n",
      " 20  Inflight service                   25976 non-null  int64  \n",
      " 21  Cleanliness                        25976 non-null  int64  \n",
      " 22  Departure Delay in Minutes         25976 non-null  int64  \n",
      " 23  Arrival Delay in Minutes           25893 non-null  float64\n",
      " 24  satisfaction                       25976 non-null  object \n",
      "dtypes: float64(1), int64(19), object(5)\n",
      "memory usage: 5.0+ MB\n"
     ]
    }
   ],
   "source": [
    "pas_satisfaction.info()"
   ]
  },
  {
   "cell_type": "code",
   "execution_count": 6,
   "id": "0d0b1f4a",
   "metadata": {},
   "outputs": [
    {
     "data": {
      "text/plain": [
       "(25976, 25)"
      ]
     },
     "execution_count": 6,
     "metadata": {},
     "output_type": "execute_result"
    }
   ],
   "source": [
    "pas_satisfaction.shape"
   ]
  },
  {
   "cell_type": "markdown",
   "id": "d4d305e3",
   "metadata": {},
   "source": [
    "Итак, в таблице 25 столбцов и 25976 строк. \n",
    "Тип данных в колонках Gender, Customer Type, Type of Travel, Class, satisfaction - `строковый`, Arrival Delay in Minutes - `вещественный` (в связи с наличием в данной колонке пропусков), во всех остальных - `целочисленный`.\n",
    "\n",
    "Во всех колонках пропуски отсутствуют, кроме колонки Arrival Delay in Minutes с данными по задержке прибытия в минутах.\n",
    "\n",
    "Рассмотрим данные более детально, для начала выясним, по какой шкале пассажиры оценивали уровень удовлетворенности"
   ]
  },
  {
   "cell_type": "code",
   "execution_count": 7,
   "id": "e8b2cb2d",
   "metadata": {},
   "outputs": [
    {
     "data": {
      "text/plain": [
       "array([5, 4, 3, 1, 2])"
      ]
     },
     "execution_count": 7,
     "metadata": {},
     "output_type": "execute_result"
    }
   ],
   "source": [
    "pas_satisfaction['Baggage handling'].unique()"
   ]
  },
  {
   "cell_type": "markdown",
   "id": "07fe1138",
   "metadata": {},
   "source": [
    "Таким образом, мы видим, что уровень удовлетворенности оценивался пассажирами по 5-ти балльной шкале "
   ]
  },
  {
   "cell_type": "markdown",
   "id": "ca5f57cb",
   "metadata": {},
   "source": [
    "Посмотрим данные по пассажиру с индексом 1000"
   ]
  },
  {
   "cell_type": "code",
   "execution_count": 8,
   "id": "e5c84adf",
   "metadata": {},
   "outputs": [
    {
     "data": {
      "text/plain": [
       "Unnamed: 0                                              1000\n",
       "id                                                     79213\n",
       "Gender                                                  Male\n",
       "Customer Type                                 Loyal Customer\n",
       "Age                                                       22\n",
       "Type of Travel                               Personal Travel\n",
       "Class                                                    Eco\n",
       "Flight Distance                                         1990\n",
       "Inflight wifi service                                      2\n",
       "Departure/Arrival time convenient                          4\n",
       "Ease of Online booking                                     2\n",
       "Gate location                                              4\n",
       "Food and drink                                             1\n",
       "Online boarding                                            2\n",
       "Seat comfort                                               1\n",
       "Inflight entertainment                                     1\n",
       "On-board service                                           3\n",
       "Leg room service                                           3\n",
       "Baggage handling                                           3\n",
       "Checkin service                                            2\n",
       "Inflight service                                           4\n",
       "Cleanliness                                                1\n",
       "Departure Delay in Minutes                                 0\n",
       "Arrival Delay in Minutes                                 0.0\n",
       "satisfaction                         neutral or dissatisfied\n",
       "Name: 1000, dtype: object"
      ]
     },
     "execution_count": 8,
     "metadata": {},
     "output_type": "execute_result"
    }
   ],
   "source": [
    "pas_satisfaction.iloc[1000]"
   ]
  },
  {
   "cell_type": "markdown",
   "id": "a277ede0",
   "metadata": {},
   "source": [
    "Посмотрим, на какое расстояние летал пассажир с индексом 100"
   ]
  },
  {
   "cell_type": "code",
   "execution_count": 9,
   "id": "81c1d367",
   "metadata": {
    "scrolled": true
   },
   "outputs": [
    {
     "data": {
      "text/plain": [
       "1061"
      ]
     },
     "execution_count": 9,
     "metadata": {},
     "output_type": "execute_result"
    }
   ],
   "source": [
    "pas_satisfaction.iloc[100,7]"
   ]
  },
  {
   "cell_type": "markdown",
   "id": "9241f796",
   "metadata": {},
   "source": [
    "**Исследуем пропуски**"
   ]
  },
  {
   "cell_type": "markdown",
   "id": "0fd00717",
   "metadata": {},
   "source": [
    "Для начала посмотрим, в каких колонках есть пропуски и сколько их"
   ]
  },
  {
   "cell_type": "code",
   "execution_count": 10,
   "id": "26492c64",
   "metadata": {},
   "outputs": [
    {
     "data": {
      "text/plain": [
       "Unnamed: 0                            0\n",
       "id                                    0\n",
       "Gender                                0\n",
       "Customer Type                         0\n",
       "Age                                   0\n",
       "Type of Travel                        0\n",
       "Class                                 0\n",
       "Flight Distance                       0\n",
       "Inflight wifi service                 0\n",
       "Departure/Arrival time convenient     0\n",
       "Ease of Online booking                0\n",
       "Gate location                         0\n",
       "Food and drink                        0\n",
       "Online boarding                       0\n",
       "Seat comfort                          0\n",
       "Inflight entertainment                0\n",
       "On-board service                      0\n",
       "Leg room service                      0\n",
       "Baggage handling                      0\n",
       "Checkin service                       0\n",
       "Inflight service                      0\n",
       "Cleanliness                           0\n",
       "Departure Delay in Minutes            0\n",
       "Arrival Delay in Minutes             83\n",
       "satisfaction                          0\n",
       "dtype: int64"
      ]
     },
     "execution_count": 10,
     "metadata": {},
     "output_type": "execute_result"
    }
   ],
   "source": [
    "pas_satisfaction.isna().sum()"
   ]
  },
  {
   "cell_type": "markdown",
   "id": "02139b8a",
   "metadata": {},
   "source": [
    "Как мы заметили на этапе ознакомления с данными, пропуски имеются в колонке Arrival Delay in Minutes, расмотрим их более детально и решим, что с ними делать"
   ]
  },
  {
   "cell_type": "code",
   "execution_count": 11,
   "id": "ccfeabb0",
   "metadata": {},
   "outputs": [
    {
     "data": {
      "text/plain": [
       "0      44.0\n",
       "1       0.0\n",
       "2       0.0\n",
       "3       6.0\n",
       "4      20.0\n",
       "5       0.0\n",
       "6       0.0\n",
       "7      65.0\n",
       "8       0.0\n",
       "9      14.0\n",
       "10     19.0\n",
       "11      7.0\n",
       "12      0.0\n",
       "13    113.0\n",
       "14      0.0\n",
       "15      2.0\n",
       "16      0.0\n",
       "17      0.0\n",
       "18      0.0\n",
       "19      0.0\n",
       "Name: Arrival Delay in Minutes, dtype: float64"
      ]
     },
     "execution_count": 11,
     "metadata": {},
     "output_type": "execute_result"
    }
   ],
   "source": [
    "pas_satisfaction['Arrival Delay in Minutes'].head(20)"
   ]
  },
  {
   "cell_type": "code",
   "execution_count": 12,
   "id": "f074d5d6",
   "metadata": {},
   "outputs": [
    {
     "data": {
      "text/html": [
       "<div>\n",
       "<style scoped>\n",
       "    .dataframe tbody tr th:only-of-type {\n",
       "        vertical-align: middle;\n",
       "    }\n",
       "\n",
       "    .dataframe tbody tr th {\n",
       "        vertical-align: top;\n",
       "    }\n",
       "\n",
       "    .dataframe thead th {\n",
       "        text-align: right;\n",
       "    }\n",
       "</style>\n",
       "<table border=\"1\" class=\"dataframe\">\n",
       "  <thead>\n",
       "    <tr style=\"text-align: right;\">\n",
       "      <th></th>\n",
       "      <th>Unnamed: 0</th>\n",
       "      <th>id</th>\n",
       "      <th>Gender</th>\n",
       "      <th>Customer Type</th>\n",
       "      <th>Age</th>\n",
       "      <th>Type of Travel</th>\n",
       "      <th>Class</th>\n",
       "      <th>Flight Distance</th>\n",
       "      <th>Inflight wifi service</th>\n",
       "      <th>Departure/Arrival time convenient</th>\n",
       "      <th>...</th>\n",
       "      <th>Inflight entertainment</th>\n",
       "      <th>On-board service</th>\n",
       "      <th>Leg room service</th>\n",
       "      <th>Baggage handling</th>\n",
       "      <th>Checkin service</th>\n",
       "      <th>Inflight service</th>\n",
       "      <th>Cleanliness</th>\n",
       "      <th>Departure Delay in Minutes</th>\n",
       "      <th>Arrival Delay in Minutes</th>\n",
       "      <th>satisfaction</th>\n",
       "    </tr>\n",
       "  </thead>\n",
       "  <tbody>\n",
       "    <tr>\n",
       "      <th>516</th>\n",
       "      <td>516</td>\n",
       "      <td>107365</td>\n",
       "      <td>Female</td>\n",
       "      <td>Loyal Customer</td>\n",
       "      <td>21</td>\n",
       "      <td>Personal Travel</td>\n",
       "      <td>Eco</td>\n",
       "      <td>632</td>\n",
       "      <td>1</td>\n",
       "      <td>5</td>\n",
       "      <td>...</td>\n",
       "      <td>2</td>\n",
       "      <td>4</td>\n",
       "      <td>2</td>\n",
       "      <td>5</td>\n",
       "      <td>4</td>\n",
       "      <td>5</td>\n",
       "      <td>2</td>\n",
       "      <td>9</td>\n",
       "      <td>NaN</td>\n",
       "      <td>neutral or dissatisfied</td>\n",
       "    </tr>\n",
       "    <tr>\n",
       "      <th>656</th>\n",
       "      <td>656</td>\n",
       "      <td>108648</td>\n",
       "      <td>Male</td>\n",
       "      <td>Loyal Customer</td>\n",
       "      <td>9</td>\n",
       "      <td>Personal Travel</td>\n",
       "      <td>Eco</td>\n",
       "      <td>762</td>\n",
       "      <td>2</td>\n",
       "      <td>5</td>\n",
       "      <td>...</td>\n",
       "      <td>4</td>\n",
       "      <td>2</td>\n",
       "      <td>5</td>\n",
       "      <td>2</td>\n",
       "      <td>5</td>\n",
       "      <td>2</td>\n",
       "      <td>4</td>\n",
       "      <td>51</td>\n",
       "      <td>NaN</td>\n",
       "      <td>neutral or dissatisfied</td>\n",
       "    </tr>\n",
       "    <tr>\n",
       "      <th>1071</th>\n",
       "      <td>1071</td>\n",
       "      <td>16797</td>\n",
       "      <td>Male</td>\n",
       "      <td>disloyal Customer</td>\n",
       "      <td>25</td>\n",
       "      <td>Business travel</td>\n",
       "      <td>Eco</td>\n",
       "      <td>1017</td>\n",
       "      <td>3</td>\n",
       "      <td>4</td>\n",
       "      <td>...</td>\n",
       "      <td>5</td>\n",
       "      <td>2</td>\n",
       "      <td>5</td>\n",
       "      <td>2</td>\n",
       "      <td>3</td>\n",
       "      <td>2</td>\n",
       "      <td>5</td>\n",
       "      <td>126</td>\n",
       "      <td>NaN</td>\n",
       "      <td>neutral or dissatisfied</td>\n",
       "    </tr>\n",
       "    <tr>\n",
       "      <th>1224</th>\n",
       "      <td>1224</td>\n",
       "      <td>30090</td>\n",
       "      <td>Male</td>\n",
       "      <td>Loyal Customer</td>\n",
       "      <td>7</td>\n",
       "      <td>Personal Travel</td>\n",
       "      <td>Eco</td>\n",
       "      <td>399</td>\n",
       "      <td>4</td>\n",
       "      <td>5</td>\n",
       "      <td>...</td>\n",
       "      <td>4</td>\n",
       "      <td>4</td>\n",
       "      <td>3</td>\n",
       "      <td>1</td>\n",
       "      <td>1</td>\n",
       "      <td>4</td>\n",
       "      <td>4</td>\n",
       "      <td>0</td>\n",
       "      <td>NaN</td>\n",
       "      <td>neutral or dissatisfied</td>\n",
       "    </tr>\n",
       "    <tr>\n",
       "      <th>1589</th>\n",
       "      <td>1589</td>\n",
       "      <td>41924</td>\n",
       "      <td>Female</td>\n",
       "      <td>Loyal Customer</td>\n",
       "      <td>58</td>\n",
       "      <td>Business travel</td>\n",
       "      <td>Eco</td>\n",
       "      <td>129</td>\n",
       "      <td>5</td>\n",
       "      <td>3</td>\n",
       "      <td>...</td>\n",
       "      <td>5</td>\n",
       "      <td>5</td>\n",
       "      <td>5</td>\n",
       "      <td>5</td>\n",
       "      <td>3</td>\n",
       "      <td>5</td>\n",
       "      <td>5</td>\n",
       "      <td>3</td>\n",
       "      <td>NaN</td>\n",
       "      <td>satisfied</td>\n",
       "    </tr>\n",
       "    <tr>\n",
       "      <th>...</th>\n",
       "      <td>...</td>\n",
       "      <td>...</td>\n",
       "      <td>...</td>\n",
       "      <td>...</td>\n",
       "      <td>...</td>\n",
       "      <td>...</td>\n",
       "      <td>...</td>\n",
       "      <td>...</td>\n",
       "      <td>...</td>\n",
       "      <td>...</td>\n",
       "      <td>...</td>\n",
       "      <td>...</td>\n",
       "      <td>...</td>\n",
       "      <td>...</td>\n",
       "      <td>...</td>\n",
       "      <td>...</td>\n",
       "      <td>...</td>\n",
       "      <td>...</td>\n",
       "      <td>...</td>\n",
       "      <td>...</td>\n",
       "      <td>...</td>\n",
       "    </tr>\n",
       "    <tr>\n",
       "      <th>24072</th>\n",
       "      <td>24072</td>\n",
       "      <td>21780</td>\n",
       "      <td>Male</td>\n",
       "      <td>Loyal Customer</td>\n",
       "      <td>45</td>\n",
       "      <td>Business travel</td>\n",
       "      <td>Eco</td>\n",
       "      <td>352</td>\n",
       "      <td>5</td>\n",
       "      <td>1</td>\n",
       "      <td>...</td>\n",
       "      <td>5</td>\n",
       "      <td>1</td>\n",
       "      <td>1</td>\n",
       "      <td>1</td>\n",
       "      <td>3</td>\n",
       "      <td>2</td>\n",
       "      <td>5</td>\n",
       "      <td>26</td>\n",
       "      <td>NaN</td>\n",
       "      <td>satisfied</td>\n",
       "    </tr>\n",
       "    <tr>\n",
       "      <th>24133</th>\n",
       "      <td>24133</td>\n",
       "      <td>64934</td>\n",
       "      <td>Female</td>\n",
       "      <td>Loyal Customer</td>\n",
       "      <td>29</td>\n",
       "      <td>Business travel</td>\n",
       "      <td>Business</td>\n",
       "      <td>3873</td>\n",
       "      <td>3</td>\n",
       "      <td>3</td>\n",
       "      <td>...</td>\n",
       "      <td>3</td>\n",
       "      <td>3</td>\n",
       "      <td>4</td>\n",
       "      <td>4</td>\n",
       "      <td>4</td>\n",
       "      <td>3</td>\n",
       "      <td>3</td>\n",
       "      <td>19</td>\n",
       "      <td>NaN</td>\n",
       "      <td>neutral or dissatisfied</td>\n",
       "    </tr>\n",
       "    <tr>\n",
       "      <th>24301</th>\n",
       "      <td>24301</td>\n",
       "      <td>125688</td>\n",
       "      <td>Male</td>\n",
       "      <td>disloyal Customer</td>\n",
       "      <td>38</td>\n",
       "      <td>Business travel</td>\n",
       "      <td>Business</td>\n",
       "      <td>759</td>\n",
       "      <td>3</td>\n",
       "      <td>3</td>\n",
       "      <td>...</td>\n",
       "      <td>4</td>\n",
       "      <td>3</td>\n",
       "      <td>3</td>\n",
       "      <td>5</td>\n",
       "      <td>5</td>\n",
       "      <td>4</td>\n",
       "      <td>4</td>\n",
       "      <td>0</td>\n",
       "      <td>NaN</td>\n",
       "      <td>satisfied</td>\n",
       "    </tr>\n",
       "    <tr>\n",
       "      <th>25128</th>\n",
       "      <td>25128</td>\n",
       "      <td>64706</td>\n",
       "      <td>Female</td>\n",
       "      <td>Loyal Customer</td>\n",
       "      <td>52</td>\n",
       "      <td>Business travel</td>\n",
       "      <td>Business</td>\n",
       "      <td>3659</td>\n",
       "      <td>5</td>\n",
       "      <td>5</td>\n",
       "      <td>...</td>\n",
       "      <td>5</td>\n",
       "      <td>5</td>\n",
       "      <td>5</td>\n",
       "      <td>5</td>\n",
       "      <td>3</td>\n",
       "      <td>5</td>\n",
       "      <td>3</td>\n",
       "      <td>0</td>\n",
       "      <td>NaN</td>\n",
       "      <td>satisfied</td>\n",
       "    </tr>\n",
       "    <tr>\n",
       "      <th>25468</th>\n",
       "      <td>25468</td>\n",
       "      <td>85927</td>\n",
       "      <td>Male</td>\n",
       "      <td>disloyal Customer</td>\n",
       "      <td>26</td>\n",
       "      <td>Business travel</td>\n",
       "      <td>Business</td>\n",
       "      <td>447</td>\n",
       "      <td>1</td>\n",
       "      <td>0</td>\n",
       "      <td>...</td>\n",
       "      <td>4</td>\n",
       "      <td>5</td>\n",
       "      <td>4</td>\n",
       "      <td>4</td>\n",
       "      <td>4</td>\n",
       "      <td>5</td>\n",
       "      <td>4</td>\n",
       "      <td>4</td>\n",
       "      <td>NaN</td>\n",
       "      <td>neutral or dissatisfied</td>\n",
       "    </tr>\n",
       "  </tbody>\n",
       "</table>\n",
       "<p>83 rows × 25 columns</p>\n",
       "</div>"
      ],
      "text/plain": [
       "       Unnamed: 0      id  Gender      Customer Type  Age   Type of Travel  \\\n",
       "516           516  107365  Female     Loyal Customer   21  Personal Travel   \n",
       "656           656  108648    Male     Loyal Customer    9  Personal Travel   \n",
       "1071         1071   16797    Male  disloyal Customer   25  Business travel   \n",
       "1224         1224   30090    Male     Loyal Customer    7  Personal Travel   \n",
       "1589         1589   41924  Female     Loyal Customer   58  Business travel   \n",
       "...           ...     ...     ...                ...  ...              ...   \n",
       "24072       24072   21780    Male     Loyal Customer   45  Business travel   \n",
       "24133       24133   64934  Female     Loyal Customer   29  Business travel   \n",
       "24301       24301  125688    Male  disloyal Customer   38  Business travel   \n",
       "25128       25128   64706  Female     Loyal Customer   52  Business travel   \n",
       "25468       25468   85927    Male  disloyal Customer   26  Business travel   \n",
       "\n",
       "          Class  Flight Distance  Inflight wifi service  \\\n",
       "516         Eco              632                      1   \n",
       "656         Eco              762                      2   \n",
       "1071        Eco             1017                      3   \n",
       "1224        Eco              399                      4   \n",
       "1589        Eco              129                      5   \n",
       "...         ...              ...                    ...   \n",
       "24072       Eco              352                      5   \n",
       "24133  Business             3873                      3   \n",
       "24301  Business              759                      3   \n",
       "25128  Business             3659                      5   \n",
       "25468  Business              447                      1   \n",
       "\n",
       "       Departure/Arrival time convenient  ...  Inflight entertainment  \\\n",
       "516                                    5  ...                       2   \n",
       "656                                    5  ...                       4   \n",
       "1071                                   4  ...                       5   \n",
       "1224                                   5  ...                       4   \n",
       "1589                                   3  ...                       5   \n",
       "...                                  ...  ...                     ...   \n",
       "24072                                  1  ...                       5   \n",
       "24133                                  3  ...                       3   \n",
       "24301                                  3  ...                       4   \n",
       "25128                                  5  ...                       5   \n",
       "25468                                  0  ...                       4   \n",
       "\n",
       "       On-board service  Leg room service  Baggage handling  Checkin service  \\\n",
       "516                   4                 2                 5                4   \n",
       "656                   2                 5                 2                5   \n",
       "1071                  2                 5                 2                3   \n",
       "1224                  4                 3                 1                1   \n",
       "1589                  5                 5                 5                3   \n",
       "...                 ...               ...               ...              ...   \n",
       "24072                 1                 1                 1                3   \n",
       "24133                 3                 4                 4                4   \n",
       "24301                 3                 3                 5                5   \n",
       "25128                 5                 5                 5                3   \n",
       "25468                 5                 4                 4                4   \n",
       "\n",
       "       Inflight service  Cleanliness  Departure Delay in Minutes  \\\n",
       "516                   5            2                           9   \n",
       "656                   2            4                          51   \n",
       "1071                  2            5                         126   \n",
       "1224                  4            4                           0   \n",
       "1589                  5            5                           3   \n",
       "...                 ...          ...                         ...   \n",
       "24072                 2            5                          26   \n",
       "24133                 3            3                          19   \n",
       "24301                 4            4                           0   \n",
       "25128                 5            3                           0   \n",
       "25468                 5            4                           4   \n",
       "\n",
       "       Arrival Delay in Minutes             satisfaction  \n",
       "516                         NaN  neutral or dissatisfied  \n",
       "656                         NaN  neutral or dissatisfied  \n",
       "1071                        NaN  neutral or dissatisfied  \n",
       "1224                        NaN  neutral or dissatisfied  \n",
       "1589                        NaN                satisfied  \n",
       "...                         ...                      ...  \n",
       "24072                       NaN                satisfied  \n",
       "24133                       NaN  neutral or dissatisfied  \n",
       "24301                       NaN                satisfied  \n",
       "25128                       NaN                satisfied  \n",
       "25468                       NaN  neutral or dissatisfied  \n",
       "\n",
       "[83 rows x 25 columns]"
      ]
     },
     "execution_count": 12,
     "metadata": {},
     "output_type": "execute_result"
    }
   ],
   "source": [
    "pas_satisfaction[pas_satisfaction['Arrival Delay in Minutes'].isna()]"
   ]
  },
  {
   "cell_type": "markdown",
   "id": "fe89cd9d",
   "metadata": {},
   "source": [
    "Пропуски можно заполнить или удалить"
   ]
  },
  {
   "cell_type": "code",
   "execution_count": 13,
   "id": "095bc3c9",
   "metadata": {},
   "outputs": [
    {
     "data": {
      "text/html": [
       "<div>\n",
       "<style scoped>\n",
       "    .dataframe tbody tr th:only-of-type {\n",
       "        vertical-align: middle;\n",
       "    }\n",
       "\n",
       "    .dataframe tbody tr th {\n",
       "        vertical-align: top;\n",
       "    }\n",
       "\n",
       "    .dataframe thead th {\n",
       "        text-align: right;\n",
       "    }\n",
       "</style>\n",
       "<table border=\"1\" class=\"dataframe\">\n",
       "  <thead>\n",
       "    <tr style=\"text-align: right;\">\n",
       "      <th></th>\n",
       "      <th>Unnamed: 0</th>\n",
       "      <th>id</th>\n",
       "      <th>Gender</th>\n",
       "      <th>Customer Type</th>\n",
       "      <th>Age</th>\n",
       "      <th>Type of Travel</th>\n",
       "      <th>Class</th>\n",
       "      <th>Flight Distance</th>\n",
       "      <th>Inflight wifi service</th>\n",
       "      <th>Departure/Arrival time convenient</th>\n",
       "      <th>...</th>\n",
       "      <th>Inflight entertainment</th>\n",
       "      <th>On-board service</th>\n",
       "      <th>Leg room service</th>\n",
       "      <th>Baggage handling</th>\n",
       "      <th>Checkin service</th>\n",
       "      <th>Inflight service</th>\n",
       "      <th>Cleanliness</th>\n",
       "      <th>Departure Delay in Minutes</th>\n",
       "      <th>Arrival Delay in Minutes</th>\n",
       "      <th>satisfaction</th>\n",
       "    </tr>\n",
       "  </thead>\n",
       "  <tbody>\n",
       "    <tr>\n",
       "      <th>0</th>\n",
       "      <td>0</td>\n",
       "      <td>19556</td>\n",
       "      <td>Female</td>\n",
       "      <td>Loyal Customer</td>\n",
       "      <td>52</td>\n",
       "      <td>Business travel</td>\n",
       "      <td>Eco</td>\n",
       "      <td>160</td>\n",
       "      <td>5</td>\n",
       "      <td>4</td>\n",
       "      <td>...</td>\n",
       "      <td>5</td>\n",
       "      <td>5</td>\n",
       "      <td>5</td>\n",
       "      <td>5</td>\n",
       "      <td>2</td>\n",
       "      <td>5</td>\n",
       "      <td>5</td>\n",
       "      <td>50</td>\n",
       "      <td>44.0</td>\n",
       "      <td>satisfied</td>\n",
       "    </tr>\n",
       "    <tr>\n",
       "      <th>1</th>\n",
       "      <td>1</td>\n",
       "      <td>90035</td>\n",
       "      <td>Female</td>\n",
       "      <td>Loyal Customer</td>\n",
       "      <td>36</td>\n",
       "      <td>Business travel</td>\n",
       "      <td>Business</td>\n",
       "      <td>2863</td>\n",
       "      <td>1</td>\n",
       "      <td>1</td>\n",
       "      <td>...</td>\n",
       "      <td>4</td>\n",
       "      <td>4</td>\n",
       "      <td>4</td>\n",
       "      <td>4</td>\n",
       "      <td>3</td>\n",
       "      <td>4</td>\n",
       "      <td>5</td>\n",
       "      <td>0</td>\n",
       "      <td>0.0</td>\n",
       "      <td>satisfied</td>\n",
       "    </tr>\n",
       "    <tr>\n",
       "      <th>2</th>\n",
       "      <td>2</td>\n",
       "      <td>12360</td>\n",
       "      <td>Male</td>\n",
       "      <td>disloyal Customer</td>\n",
       "      <td>20</td>\n",
       "      <td>Business travel</td>\n",
       "      <td>Eco</td>\n",
       "      <td>192</td>\n",
       "      <td>2</td>\n",
       "      <td>0</td>\n",
       "      <td>...</td>\n",
       "      <td>2</td>\n",
       "      <td>4</td>\n",
       "      <td>1</td>\n",
       "      <td>3</td>\n",
       "      <td>2</td>\n",
       "      <td>2</td>\n",
       "      <td>2</td>\n",
       "      <td>0</td>\n",
       "      <td>0.0</td>\n",
       "      <td>neutral or dissatisfied</td>\n",
       "    </tr>\n",
       "    <tr>\n",
       "      <th>3</th>\n",
       "      <td>3</td>\n",
       "      <td>77959</td>\n",
       "      <td>Male</td>\n",
       "      <td>Loyal Customer</td>\n",
       "      <td>44</td>\n",
       "      <td>Business travel</td>\n",
       "      <td>Business</td>\n",
       "      <td>3377</td>\n",
       "      <td>0</td>\n",
       "      <td>0</td>\n",
       "      <td>...</td>\n",
       "      <td>1</td>\n",
       "      <td>1</td>\n",
       "      <td>1</td>\n",
       "      <td>1</td>\n",
       "      <td>3</td>\n",
       "      <td>1</td>\n",
       "      <td>4</td>\n",
       "      <td>0</td>\n",
       "      <td>6.0</td>\n",
       "      <td>satisfied</td>\n",
       "    </tr>\n",
       "    <tr>\n",
       "      <th>4</th>\n",
       "      <td>4</td>\n",
       "      <td>36875</td>\n",
       "      <td>Female</td>\n",
       "      <td>Loyal Customer</td>\n",
       "      <td>49</td>\n",
       "      <td>Business travel</td>\n",
       "      <td>Eco</td>\n",
       "      <td>1182</td>\n",
       "      <td>2</td>\n",
       "      <td>3</td>\n",
       "      <td>...</td>\n",
       "      <td>2</td>\n",
       "      <td>2</td>\n",
       "      <td>2</td>\n",
       "      <td>2</td>\n",
       "      <td>4</td>\n",
       "      <td>2</td>\n",
       "      <td>4</td>\n",
       "      <td>0</td>\n",
       "      <td>20.0</td>\n",
       "      <td>satisfied</td>\n",
       "    </tr>\n",
       "    <tr>\n",
       "      <th>...</th>\n",
       "      <td>...</td>\n",
       "      <td>...</td>\n",
       "      <td>...</td>\n",
       "      <td>...</td>\n",
       "      <td>...</td>\n",
       "      <td>...</td>\n",
       "      <td>...</td>\n",
       "      <td>...</td>\n",
       "      <td>...</td>\n",
       "      <td>...</td>\n",
       "      <td>...</td>\n",
       "      <td>...</td>\n",
       "      <td>...</td>\n",
       "      <td>...</td>\n",
       "      <td>...</td>\n",
       "      <td>...</td>\n",
       "      <td>...</td>\n",
       "      <td>...</td>\n",
       "      <td>...</td>\n",
       "      <td>...</td>\n",
       "      <td>...</td>\n",
       "    </tr>\n",
       "    <tr>\n",
       "      <th>25971</th>\n",
       "      <td>25971</td>\n",
       "      <td>78463</td>\n",
       "      <td>Male</td>\n",
       "      <td>disloyal Customer</td>\n",
       "      <td>34</td>\n",
       "      <td>Business travel</td>\n",
       "      <td>Business</td>\n",
       "      <td>526</td>\n",
       "      <td>3</td>\n",
       "      <td>3</td>\n",
       "      <td>...</td>\n",
       "      <td>4</td>\n",
       "      <td>3</td>\n",
       "      <td>2</td>\n",
       "      <td>4</td>\n",
       "      <td>4</td>\n",
       "      <td>5</td>\n",
       "      <td>4</td>\n",
       "      <td>0</td>\n",
       "      <td>0.0</td>\n",
       "      <td>neutral or dissatisfied</td>\n",
       "    </tr>\n",
       "    <tr>\n",
       "      <th>25972</th>\n",
       "      <td>25972</td>\n",
       "      <td>71167</td>\n",
       "      <td>Male</td>\n",
       "      <td>Loyal Customer</td>\n",
       "      <td>23</td>\n",
       "      <td>Business travel</td>\n",
       "      <td>Business</td>\n",
       "      <td>646</td>\n",
       "      <td>4</td>\n",
       "      <td>4</td>\n",
       "      <td>...</td>\n",
       "      <td>4</td>\n",
       "      <td>4</td>\n",
       "      <td>5</td>\n",
       "      <td>5</td>\n",
       "      <td>5</td>\n",
       "      <td>5</td>\n",
       "      <td>4</td>\n",
       "      <td>0</td>\n",
       "      <td>0.0</td>\n",
       "      <td>satisfied</td>\n",
       "    </tr>\n",
       "    <tr>\n",
       "      <th>25973</th>\n",
       "      <td>25973</td>\n",
       "      <td>37675</td>\n",
       "      <td>Female</td>\n",
       "      <td>Loyal Customer</td>\n",
       "      <td>17</td>\n",
       "      <td>Personal Travel</td>\n",
       "      <td>Eco</td>\n",
       "      <td>828</td>\n",
       "      <td>2</td>\n",
       "      <td>5</td>\n",
       "      <td>...</td>\n",
       "      <td>2</td>\n",
       "      <td>4</td>\n",
       "      <td>3</td>\n",
       "      <td>4</td>\n",
       "      <td>5</td>\n",
       "      <td>4</td>\n",
       "      <td>2</td>\n",
       "      <td>0</td>\n",
       "      <td>0.0</td>\n",
       "      <td>neutral or dissatisfied</td>\n",
       "    </tr>\n",
       "    <tr>\n",
       "      <th>25974</th>\n",
       "      <td>25974</td>\n",
       "      <td>90086</td>\n",
       "      <td>Male</td>\n",
       "      <td>Loyal Customer</td>\n",
       "      <td>14</td>\n",
       "      <td>Business travel</td>\n",
       "      <td>Business</td>\n",
       "      <td>1127</td>\n",
       "      <td>3</td>\n",
       "      <td>3</td>\n",
       "      <td>...</td>\n",
       "      <td>4</td>\n",
       "      <td>3</td>\n",
       "      <td>2</td>\n",
       "      <td>5</td>\n",
       "      <td>4</td>\n",
       "      <td>5</td>\n",
       "      <td>4</td>\n",
       "      <td>0</td>\n",
       "      <td>0.0</td>\n",
       "      <td>satisfied</td>\n",
       "    </tr>\n",
       "    <tr>\n",
       "      <th>25975</th>\n",
       "      <td>25975</td>\n",
       "      <td>34799</td>\n",
       "      <td>Female</td>\n",
       "      <td>Loyal Customer</td>\n",
       "      <td>42</td>\n",
       "      <td>Personal Travel</td>\n",
       "      <td>Eco</td>\n",
       "      <td>264</td>\n",
       "      <td>2</td>\n",
       "      <td>5</td>\n",
       "      <td>...</td>\n",
       "      <td>1</td>\n",
       "      <td>1</td>\n",
       "      <td>2</td>\n",
       "      <td>1</td>\n",
       "      <td>1</td>\n",
       "      <td>1</td>\n",
       "      <td>1</td>\n",
       "      <td>0</td>\n",
       "      <td>0.0</td>\n",
       "      <td>neutral or dissatisfied</td>\n",
       "    </tr>\n",
       "  </tbody>\n",
       "</table>\n",
       "<p>25893 rows × 25 columns</p>\n",
       "</div>"
      ],
      "text/plain": [
       "       Unnamed: 0     id  Gender      Customer Type  Age   Type of Travel  \\\n",
       "0               0  19556  Female     Loyal Customer   52  Business travel   \n",
       "1               1  90035  Female     Loyal Customer   36  Business travel   \n",
       "2               2  12360    Male  disloyal Customer   20  Business travel   \n",
       "3               3  77959    Male     Loyal Customer   44  Business travel   \n",
       "4               4  36875  Female     Loyal Customer   49  Business travel   \n",
       "...           ...    ...     ...                ...  ...              ...   \n",
       "25971       25971  78463    Male  disloyal Customer   34  Business travel   \n",
       "25972       25972  71167    Male     Loyal Customer   23  Business travel   \n",
       "25973       25973  37675  Female     Loyal Customer   17  Personal Travel   \n",
       "25974       25974  90086    Male     Loyal Customer   14  Business travel   \n",
       "25975       25975  34799  Female     Loyal Customer   42  Personal Travel   \n",
       "\n",
       "          Class  Flight Distance  Inflight wifi service  \\\n",
       "0           Eco              160                      5   \n",
       "1      Business             2863                      1   \n",
       "2           Eco              192                      2   \n",
       "3      Business             3377                      0   \n",
       "4           Eco             1182                      2   \n",
       "...         ...              ...                    ...   \n",
       "25971  Business              526                      3   \n",
       "25972  Business              646                      4   \n",
       "25973       Eco              828                      2   \n",
       "25974  Business             1127                      3   \n",
       "25975       Eco              264                      2   \n",
       "\n",
       "       Departure/Arrival time convenient  ...  Inflight entertainment  \\\n",
       "0                                      4  ...                       5   \n",
       "1                                      1  ...                       4   \n",
       "2                                      0  ...                       2   \n",
       "3                                      0  ...                       1   \n",
       "4                                      3  ...                       2   \n",
       "...                                  ...  ...                     ...   \n",
       "25971                                  3  ...                       4   \n",
       "25972                                  4  ...                       4   \n",
       "25973                                  5  ...                       2   \n",
       "25974                                  3  ...                       4   \n",
       "25975                                  5  ...                       1   \n",
       "\n",
       "       On-board service  Leg room service  Baggage handling  Checkin service  \\\n",
       "0                     5                 5                 5                2   \n",
       "1                     4                 4                 4                3   \n",
       "2                     4                 1                 3                2   \n",
       "3                     1                 1                 1                3   \n",
       "4                     2                 2                 2                4   \n",
       "...                 ...               ...               ...              ...   \n",
       "25971                 3                 2                 4                4   \n",
       "25972                 4                 5                 5                5   \n",
       "25973                 4                 3                 4                5   \n",
       "25974                 3                 2                 5                4   \n",
       "25975                 1                 2                 1                1   \n",
       "\n",
       "       Inflight service  Cleanliness  Departure Delay in Minutes  \\\n",
       "0                     5            5                          50   \n",
       "1                     4            5                           0   \n",
       "2                     2            2                           0   \n",
       "3                     1            4                           0   \n",
       "4                     2            4                           0   \n",
       "...                 ...          ...                         ...   \n",
       "25971                 5            4                           0   \n",
       "25972                 5            4                           0   \n",
       "25973                 4            2                           0   \n",
       "25974                 5            4                           0   \n",
       "25975                 1            1                           0   \n",
       "\n",
       "       Arrival Delay in Minutes             satisfaction  \n",
       "0                          44.0                satisfied  \n",
       "1                           0.0                satisfied  \n",
       "2                           0.0  neutral or dissatisfied  \n",
       "3                           6.0                satisfied  \n",
       "4                          20.0                satisfied  \n",
       "...                         ...                      ...  \n",
       "25971                       0.0  neutral or dissatisfied  \n",
       "25972                       0.0                satisfied  \n",
       "25973                       0.0  neutral or dissatisfied  \n",
       "25974                       0.0                satisfied  \n",
       "25975                       0.0  neutral or dissatisfied  \n",
       "\n",
       "[25893 rows x 25 columns]"
      ]
     },
     "execution_count": 13,
     "metadata": {},
     "output_type": "execute_result"
    }
   ],
   "source": [
    "#удаление пропусков\n",
    "pas_satisfaction_drop = pas_satisfaction.dropna()\n",
    "pas_satisfaction_drop "
   ]
  },
  {
   "cell_type": "code",
   "execution_count": 14,
   "id": "09d79a41",
   "metadata": {},
   "outputs": [
    {
     "data": {
      "text/html": [
       "<div>\n",
       "<style scoped>\n",
       "    .dataframe tbody tr th:only-of-type {\n",
       "        vertical-align: middle;\n",
       "    }\n",
       "\n",
       "    .dataframe tbody tr th {\n",
       "        vertical-align: top;\n",
       "    }\n",
       "\n",
       "    .dataframe thead th {\n",
       "        text-align: right;\n",
       "    }\n",
       "</style>\n",
       "<table border=\"1\" class=\"dataframe\">\n",
       "  <thead>\n",
       "    <tr style=\"text-align: right;\">\n",
       "      <th></th>\n",
       "      <th>Unnamed: 0</th>\n",
       "      <th>id</th>\n",
       "      <th>Gender</th>\n",
       "      <th>Customer Type</th>\n",
       "      <th>Age</th>\n",
       "      <th>Type of Travel</th>\n",
       "      <th>Class</th>\n",
       "      <th>Flight Distance</th>\n",
       "      <th>Inflight wifi service</th>\n",
       "      <th>Departure/Arrival time convenient</th>\n",
       "      <th>...</th>\n",
       "      <th>Inflight entertainment</th>\n",
       "      <th>On-board service</th>\n",
       "      <th>Leg room service</th>\n",
       "      <th>Baggage handling</th>\n",
       "      <th>Checkin service</th>\n",
       "      <th>Inflight service</th>\n",
       "      <th>Cleanliness</th>\n",
       "      <th>Departure Delay in Minutes</th>\n",
       "      <th>Arrival Delay in Minutes</th>\n",
       "      <th>satisfaction</th>\n",
       "    </tr>\n",
       "  </thead>\n",
       "  <tbody>\n",
       "    <tr>\n",
       "      <th>0</th>\n",
       "      <td>0</td>\n",
       "      <td>19556</td>\n",
       "      <td>Female</td>\n",
       "      <td>Loyal Customer</td>\n",
       "      <td>52</td>\n",
       "      <td>Business travel</td>\n",
       "      <td>Eco</td>\n",
       "      <td>160</td>\n",
       "      <td>5</td>\n",
       "      <td>4</td>\n",
       "      <td>...</td>\n",
       "      <td>5</td>\n",
       "      <td>5</td>\n",
       "      <td>5</td>\n",
       "      <td>5</td>\n",
       "      <td>2</td>\n",
       "      <td>5</td>\n",
       "      <td>5</td>\n",
       "      <td>50</td>\n",
       "      <td>44.0</td>\n",
       "      <td>satisfied</td>\n",
       "    </tr>\n",
       "    <tr>\n",
       "      <th>1</th>\n",
       "      <td>1</td>\n",
       "      <td>90035</td>\n",
       "      <td>Female</td>\n",
       "      <td>Loyal Customer</td>\n",
       "      <td>36</td>\n",
       "      <td>Business travel</td>\n",
       "      <td>Business</td>\n",
       "      <td>2863</td>\n",
       "      <td>1</td>\n",
       "      <td>1</td>\n",
       "      <td>...</td>\n",
       "      <td>4</td>\n",
       "      <td>4</td>\n",
       "      <td>4</td>\n",
       "      <td>4</td>\n",
       "      <td>3</td>\n",
       "      <td>4</td>\n",
       "      <td>5</td>\n",
       "      <td>0</td>\n",
       "      <td>0.0</td>\n",
       "      <td>satisfied</td>\n",
       "    </tr>\n",
       "    <tr>\n",
       "      <th>2</th>\n",
       "      <td>2</td>\n",
       "      <td>12360</td>\n",
       "      <td>Male</td>\n",
       "      <td>disloyal Customer</td>\n",
       "      <td>20</td>\n",
       "      <td>Business travel</td>\n",
       "      <td>Eco</td>\n",
       "      <td>192</td>\n",
       "      <td>2</td>\n",
       "      <td>0</td>\n",
       "      <td>...</td>\n",
       "      <td>2</td>\n",
       "      <td>4</td>\n",
       "      <td>1</td>\n",
       "      <td>3</td>\n",
       "      <td>2</td>\n",
       "      <td>2</td>\n",
       "      <td>2</td>\n",
       "      <td>0</td>\n",
       "      <td>0.0</td>\n",
       "      <td>neutral or dissatisfied</td>\n",
       "    </tr>\n",
       "    <tr>\n",
       "      <th>3</th>\n",
       "      <td>3</td>\n",
       "      <td>77959</td>\n",
       "      <td>Male</td>\n",
       "      <td>Loyal Customer</td>\n",
       "      <td>44</td>\n",
       "      <td>Business travel</td>\n",
       "      <td>Business</td>\n",
       "      <td>3377</td>\n",
       "      <td>0</td>\n",
       "      <td>0</td>\n",
       "      <td>...</td>\n",
       "      <td>1</td>\n",
       "      <td>1</td>\n",
       "      <td>1</td>\n",
       "      <td>1</td>\n",
       "      <td>3</td>\n",
       "      <td>1</td>\n",
       "      <td>4</td>\n",
       "      <td>0</td>\n",
       "      <td>6.0</td>\n",
       "      <td>satisfied</td>\n",
       "    </tr>\n",
       "    <tr>\n",
       "      <th>4</th>\n",
       "      <td>4</td>\n",
       "      <td>36875</td>\n",
       "      <td>Female</td>\n",
       "      <td>Loyal Customer</td>\n",
       "      <td>49</td>\n",
       "      <td>Business travel</td>\n",
       "      <td>Eco</td>\n",
       "      <td>1182</td>\n",
       "      <td>2</td>\n",
       "      <td>3</td>\n",
       "      <td>...</td>\n",
       "      <td>2</td>\n",
       "      <td>2</td>\n",
       "      <td>2</td>\n",
       "      <td>2</td>\n",
       "      <td>4</td>\n",
       "      <td>2</td>\n",
       "      <td>4</td>\n",
       "      <td>0</td>\n",
       "      <td>20.0</td>\n",
       "      <td>satisfied</td>\n",
       "    </tr>\n",
       "    <tr>\n",
       "      <th>...</th>\n",
       "      <td>...</td>\n",
       "      <td>...</td>\n",
       "      <td>...</td>\n",
       "      <td>...</td>\n",
       "      <td>...</td>\n",
       "      <td>...</td>\n",
       "      <td>...</td>\n",
       "      <td>...</td>\n",
       "      <td>...</td>\n",
       "      <td>...</td>\n",
       "      <td>...</td>\n",
       "      <td>...</td>\n",
       "      <td>...</td>\n",
       "      <td>...</td>\n",
       "      <td>...</td>\n",
       "      <td>...</td>\n",
       "      <td>...</td>\n",
       "      <td>...</td>\n",
       "      <td>...</td>\n",
       "      <td>...</td>\n",
       "      <td>...</td>\n",
       "    </tr>\n",
       "    <tr>\n",
       "      <th>25971</th>\n",
       "      <td>25971</td>\n",
       "      <td>78463</td>\n",
       "      <td>Male</td>\n",
       "      <td>disloyal Customer</td>\n",
       "      <td>34</td>\n",
       "      <td>Business travel</td>\n",
       "      <td>Business</td>\n",
       "      <td>526</td>\n",
       "      <td>3</td>\n",
       "      <td>3</td>\n",
       "      <td>...</td>\n",
       "      <td>4</td>\n",
       "      <td>3</td>\n",
       "      <td>2</td>\n",
       "      <td>4</td>\n",
       "      <td>4</td>\n",
       "      <td>5</td>\n",
       "      <td>4</td>\n",
       "      <td>0</td>\n",
       "      <td>0.0</td>\n",
       "      <td>neutral or dissatisfied</td>\n",
       "    </tr>\n",
       "    <tr>\n",
       "      <th>25972</th>\n",
       "      <td>25972</td>\n",
       "      <td>71167</td>\n",
       "      <td>Male</td>\n",
       "      <td>Loyal Customer</td>\n",
       "      <td>23</td>\n",
       "      <td>Business travel</td>\n",
       "      <td>Business</td>\n",
       "      <td>646</td>\n",
       "      <td>4</td>\n",
       "      <td>4</td>\n",
       "      <td>...</td>\n",
       "      <td>4</td>\n",
       "      <td>4</td>\n",
       "      <td>5</td>\n",
       "      <td>5</td>\n",
       "      <td>5</td>\n",
       "      <td>5</td>\n",
       "      <td>4</td>\n",
       "      <td>0</td>\n",
       "      <td>0.0</td>\n",
       "      <td>satisfied</td>\n",
       "    </tr>\n",
       "    <tr>\n",
       "      <th>25973</th>\n",
       "      <td>25973</td>\n",
       "      <td>37675</td>\n",
       "      <td>Female</td>\n",
       "      <td>Loyal Customer</td>\n",
       "      <td>17</td>\n",
       "      <td>Personal Travel</td>\n",
       "      <td>Eco</td>\n",
       "      <td>828</td>\n",
       "      <td>2</td>\n",
       "      <td>5</td>\n",
       "      <td>...</td>\n",
       "      <td>2</td>\n",
       "      <td>4</td>\n",
       "      <td>3</td>\n",
       "      <td>4</td>\n",
       "      <td>5</td>\n",
       "      <td>4</td>\n",
       "      <td>2</td>\n",
       "      <td>0</td>\n",
       "      <td>0.0</td>\n",
       "      <td>neutral or dissatisfied</td>\n",
       "    </tr>\n",
       "    <tr>\n",
       "      <th>25974</th>\n",
       "      <td>25974</td>\n",
       "      <td>90086</td>\n",
       "      <td>Male</td>\n",
       "      <td>Loyal Customer</td>\n",
       "      <td>14</td>\n",
       "      <td>Business travel</td>\n",
       "      <td>Business</td>\n",
       "      <td>1127</td>\n",
       "      <td>3</td>\n",
       "      <td>3</td>\n",
       "      <td>...</td>\n",
       "      <td>4</td>\n",
       "      <td>3</td>\n",
       "      <td>2</td>\n",
       "      <td>5</td>\n",
       "      <td>4</td>\n",
       "      <td>5</td>\n",
       "      <td>4</td>\n",
       "      <td>0</td>\n",
       "      <td>0.0</td>\n",
       "      <td>satisfied</td>\n",
       "    </tr>\n",
       "    <tr>\n",
       "      <th>25975</th>\n",
       "      <td>25975</td>\n",
       "      <td>34799</td>\n",
       "      <td>Female</td>\n",
       "      <td>Loyal Customer</td>\n",
       "      <td>42</td>\n",
       "      <td>Personal Travel</td>\n",
       "      <td>Eco</td>\n",
       "      <td>264</td>\n",
       "      <td>2</td>\n",
       "      <td>5</td>\n",
       "      <td>...</td>\n",
       "      <td>1</td>\n",
       "      <td>1</td>\n",
       "      <td>2</td>\n",
       "      <td>1</td>\n",
       "      <td>1</td>\n",
       "      <td>1</td>\n",
       "      <td>1</td>\n",
       "      <td>0</td>\n",
       "      <td>0.0</td>\n",
       "      <td>neutral or dissatisfied</td>\n",
       "    </tr>\n",
       "  </tbody>\n",
       "</table>\n",
       "<p>25976 rows × 25 columns</p>\n",
       "</div>"
      ],
      "text/plain": [
       "       Unnamed: 0     id  Gender      Customer Type  Age   Type of Travel  \\\n",
       "0               0  19556  Female     Loyal Customer   52  Business travel   \n",
       "1               1  90035  Female     Loyal Customer   36  Business travel   \n",
       "2               2  12360    Male  disloyal Customer   20  Business travel   \n",
       "3               3  77959    Male     Loyal Customer   44  Business travel   \n",
       "4               4  36875  Female     Loyal Customer   49  Business travel   \n",
       "...           ...    ...     ...                ...  ...              ...   \n",
       "25971       25971  78463    Male  disloyal Customer   34  Business travel   \n",
       "25972       25972  71167    Male     Loyal Customer   23  Business travel   \n",
       "25973       25973  37675  Female     Loyal Customer   17  Personal Travel   \n",
       "25974       25974  90086    Male     Loyal Customer   14  Business travel   \n",
       "25975       25975  34799  Female     Loyal Customer   42  Personal Travel   \n",
       "\n",
       "          Class  Flight Distance  Inflight wifi service  \\\n",
       "0           Eco              160                      5   \n",
       "1      Business             2863                      1   \n",
       "2           Eco              192                      2   \n",
       "3      Business             3377                      0   \n",
       "4           Eco             1182                      2   \n",
       "...         ...              ...                    ...   \n",
       "25971  Business              526                      3   \n",
       "25972  Business              646                      4   \n",
       "25973       Eco              828                      2   \n",
       "25974  Business             1127                      3   \n",
       "25975       Eco              264                      2   \n",
       "\n",
       "       Departure/Arrival time convenient  ...  Inflight entertainment  \\\n",
       "0                                      4  ...                       5   \n",
       "1                                      1  ...                       4   \n",
       "2                                      0  ...                       2   \n",
       "3                                      0  ...                       1   \n",
       "4                                      3  ...                       2   \n",
       "...                                  ...  ...                     ...   \n",
       "25971                                  3  ...                       4   \n",
       "25972                                  4  ...                       4   \n",
       "25973                                  5  ...                       2   \n",
       "25974                                  3  ...                       4   \n",
       "25975                                  5  ...                       1   \n",
       "\n",
       "       On-board service  Leg room service  Baggage handling  Checkin service  \\\n",
       "0                     5                 5                 5                2   \n",
       "1                     4                 4                 4                3   \n",
       "2                     4                 1                 3                2   \n",
       "3                     1                 1                 1                3   \n",
       "4                     2                 2                 2                4   \n",
       "...                 ...               ...               ...              ...   \n",
       "25971                 3                 2                 4                4   \n",
       "25972                 4                 5                 5                5   \n",
       "25973                 4                 3                 4                5   \n",
       "25974                 3                 2                 5                4   \n",
       "25975                 1                 2                 1                1   \n",
       "\n",
       "       Inflight service  Cleanliness  Departure Delay in Minutes  \\\n",
       "0                     5            5                          50   \n",
       "1                     4            5                           0   \n",
       "2                     2            2                           0   \n",
       "3                     1            4                           0   \n",
       "4                     2            4                           0   \n",
       "...                 ...          ...                         ...   \n",
       "25971                 5            4                           0   \n",
       "25972                 5            4                           0   \n",
       "25973                 4            2                           0   \n",
       "25974                 5            4                           0   \n",
       "25975                 1            1                           0   \n",
       "\n",
       "       Arrival Delay in Minutes             satisfaction  \n",
       "0                          44.0                satisfied  \n",
       "1                           0.0                satisfied  \n",
       "2                           0.0  neutral or dissatisfied  \n",
       "3                           6.0                satisfied  \n",
       "4                          20.0                satisfied  \n",
       "...                         ...                      ...  \n",
       "25971                       0.0  neutral or dissatisfied  \n",
       "25972                       0.0                satisfied  \n",
       "25973                       0.0  neutral or dissatisfied  \n",
       "25974                       0.0                satisfied  \n",
       "25975                       0.0  neutral or dissatisfied  \n",
       "\n",
       "[25976 rows x 25 columns]"
      ]
     },
     "execution_count": 14,
     "metadata": {},
     "output_type": "execute_result"
    }
   ],
   "source": [
    "#замена пропусков средним значением\n",
    "pas_satisfaction_mean = pas_satisfaction.fillna(pas_satisfaction['Arrival Delay in Minutes'].mean())\n",
    "pas_satisfaction_mean"
   ]
  },
  {
   "cell_type": "markdown",
   "id": "951e1b5c",
   "metadata": {},
   "source": [
    "Посмотрим, как изменилось значение у пассажира с индексом 516, у которого до этого было значение Nan"
   ]
  },
  {
   "cell_type": "code",
   "execution_count": 15,
   "id": "fa37f258",
   "metadata": {},
   "outputs": [
    {
     "data": {
      "text/plain": [
       "Unnamed: 0                                               516\n",
       "id                                                    107365\n",
       "Gender                                                Female\n",
       "Customer Type                                 Loyal Customer\n",
       "Age                                                       21\n",
       "Type of Travel                               Personal Travel\n",
       "Class                                                    Eco\n",
       "Flight Distance                                          632\n",
       "Inflight wifi service                                      1\n",
       "Departure/Arrival time convenient                          5\n",
       "Ease of Online booking                                     1\n",
       "Gate location                                              4\n",
       "Food and drink                                             2\n",
       "Online boarding                                            1\n",
       "Seat comfort                                               4\n",
       "Inflight entertainment                                     2\n",
       "On-board service                                           4\n",
       "Leg room service                                           2\n",
       "Baggage handling                                           5\n",
       "Checkin service                                            4\n",
       "Inflight service                                           5\n",
       "Cleanliness                                                2\n",
       "Departure Delay in Minutes                                 9\n",
       "Arrival Delay in Minutes                           14.740857\n",
       "satisfaction                         neutral or dissatisfied\n",
       "Name: 516, dtype: object"
      ]
     },
     "execution_count": 15,
     "metadata": {},
     "output_type": "execute_result"
    }
   ],
   "source": [
    "pas_satisfaction_mean.iloc[516]"
   ]
  },
  {
   "cell_type": "markdown",
   "id": "38aabca2",
   "metadata": {},
   "source": [
    "Значение получилось достаточно большим, поэтому проверим размах значений в данном столбце"
   ]
  },
  {
   "cell_type": "code",
   "execution_count": 16,
   "id": "3a464ef4",
   "metadata": {
    "scrolled": true
   },
   "outputs": [
    {
     "data": {
      "text/plain": [
       "1115.0"
      ]
     },
     "execution_count": 16,
     "metadata": {},
     "output_type": "execute_result"
    }
   ],
   "source": [
    "pas_satisfaction['Arrival Delay in Minutes'].max() - pas_satisfaction['Arrival Delay in Minutes'].min()"
   ]
  },
  {
   "cell_type": "markdown",
   "id": "f47a88c3",
   "metadata": {},
   "source": [
    "Из-за сильного размаха значений заменять пропуски средним значением опасно, так как это может сильно исказить данные.\n",
    "Попробуем посмотреть на моду и медиану"
   ]
  },
  {
   "cell_type": "code",
   "execution_count": 17,
   "id": "93f8e19a",
   "metadata": {},
   "outputs": [
    {
     "data": {
      "text/plain": [
       "0    0.0\n",
       "dtype: float64"
      ]
     },
     "execution_count": 17,
     "metadata": {},
     "output_type": "execute_result"
    }
   ],
   "source": [
    "pas_satisfaction['Arrival Delay in Minutes'].mode()"
   ]
  },
  {
   "cell_type": "code",
   "execution_count": 18,
   "id": "9c49eb90",
   "metadata": {},
   "outputs": [
    {
     "data": {
      "text/plain": [
       "0.0"
      ]
     },
     "execution_count": 18,
     "metadata": {},
     "output_type": "execute_result"
    }
   ],
   "source": [
    "pas_satisfaction['Arrival Delay in Minutes'].median()"
   ]
  },
  {
   "cell_type": "markdown",
   "id": "886a798d",
   "metadata": {},
   "source": [
    "И мода, и медиана в данном случае равны 0, поэтому заменим пропуски на 0"
   ]
  },
  {
   "cell_type": "code",
   "execution_count": 19,
   "id": "381ff042",
   "metadata": {},
   "outputs": [],
   "source": [
    "pas_satisfaction['Arrival Delay in Minutes'] = pas_satisfaction['Arrival Delay in Minutes'].fillna(0)"
   ]
  },
  {
   "cell_type": "markdown",
   "id": "0a2c5e95",
   "metadata": {},
   "source": [
    "Проверим на пропуски таблицу еще раз, чтобы убедиться, что теперь пропуски отсутствуют"
   ]
  },
  {
   "cell_type": "code",
   "execution_count": 20,
   "id": "76a0f285",
   "metadata": {},
   "outputs": [
    {
     "data": {
      "text/plain": [
       "Unnamed: 0                           0\n",
       "id                                   0\n",
       "Gender                               0\n",
       "Customer Type                        0\n",
       "Age                                  0\n",
       "Type of Travel                       0\n",
       "Class                                0\n",
       "Flight Distance                      0\n",
       "Inflight wifi service                0\n",
       "Departure/Arrival time convenient    0\n",
       "Ease of Online booking               0\n",
       "Gate location                        0\n",
       "Food and drink                       0\n",
       "Online boarding                      0\n",
       "Seat comfort                         0\n",
       "Inflight entertainment               0\n",
       "On-board service                     0\n",
       "Leg room service                     0\n",
       "Baggage handling                     0\n",
       "Checkin service                      0\n",
       "Inflight service                     0\n",
       "Cleanliness                          0\n",
       "Departure Delay in Minutes           0\n",
       "Arrival Delay in Minutes             0\n",
       "satisfaction                         0\n",
       "dtype: int64"
      ]
     },
     "execution_count": 20,
     "metadata": {},
     "output_type": "execute_result"
    }
   ],
   "source": [
    "pas_satisfaction.isna().sum() "
   ]
  },
  {
   "cell_type": "markdown",
   "id": "bbdabac6",
   "metadata": {},
   "source": [
    "**Сортировка, фильтрация и группировка**"
   ]
  },
  {
   "cell_type": "markdown",
   "id": "28dc382d",
   "metadata": {},
   "source": [
    "Отсортируем таблицу по убыванию расстояния полета и посмотрим на топ 10 самых длинных полетов"
   ]
  },
  {
   "cell_type": "code",
   "execution_count": 21,
   "id": "779c1ebb",
   "metadata": {},
   "outputs": [
    {
     "data": {
      "text/html": [
       "<div>\n",
       "<style scoped>\n",
       "    .dataframe tbody tr th:only-of-type {\n",
       "        vertical-align: middle;\n",
       "    }\n",
       "\n",
       "    .dataframe tbody tr th {\n",
       "        vertical-align: top;\n",
       "    }\n",
       "\n",
       "    .dataframe thead th {\n",
       "        text-align: right;\n",
       "    }\n",
       "</style>\n",
       "<table border=\"1\" class=\"dataframe\">\n",
       "  <thead>\n",
       "    <tr style=\"text-align: right;\">\n",
       "      <th></th>\n",
       "      <th>Unnamed: 0</th>\n",
       "      <th>id</th>\n",
       "      <th>Gender</th>\n",
       "      <th>Customer Type</th>\n",
       "      <th>Age</th>\n",
       "      <th>Type of Travel</th>\n",
       "      <th>Class</th>\n",
       "      <th>Flight Distance</th>\n",
       "      <th>Inflight wifi service</th>\n",
       "      <th>Departure/Arrival time convenient</th>\n",
       "      <th>...</th>\n",
       "      <th>Inflight entertainment</th>\n",
       "      <th>On-board service</th>\n",
       "      <th>Leg room service</th>\n",
       "      <th>Baggage handling</th>\n",
       "      <th>Checkin service</th>\n",
       "      <th>Inflight service</th>\n",
       "      <th>Cleanliness</th>\n",
       "      <th>Departure Delay in Minutes</th>\n",
       "      <th>Arrival Delay in Minutes</th>\n",
       "      <th>satisfaction</th>\n",
       "    </tr>\n",
       "  </thead>\n",
       "  <tbody>\n",
       "    <tr>\n",
       "      <th>14615</th>\n",
       "      <td>14615</td>\n",
       "      <td>31815</td>\n",
       "      <td>Female</td>\n",
       "      <td>Loyal Customer</td>\n",
       "      <td>49</td>\n",
       "      <td>Business travel</td>\n",
       "      <td>Business</td>\n",
       "      <td>4983</td>\n",
       "      <td>4</td>\n",
       "      <td>1</td>\n",
       "      <td>...</td>\n",
       "      <td>2</td>\n",
       "      <td>5</td>\n",
       "      <td>2</td>\n",
       "      <td>3</td>\n",
       "      <td>4</td>\n",
       "      <td>4</td>\n",
       "      <td>4</td>\n",
       "      <td>0</td>\n",
       "      <td>14.0</td>\n",
       "      <td>neutral or dissatisfied</td>\n",
       "    </tr>\n",
       "    <tr>\n",
       "      <th>7851</th>\n",
       "      <td>7851</td>\n",
       "      <td>31874</td>\n",
       "      <td>Female</td>\n",
       "      <td>Loyal Customer</td>\n",
       "      <td>33</td>\n",
       "      <td>Business travel</td>\n",
       "      <td>Business</td>\n",
       "      <td>4983</td>\n",
       "      <td>1</td>\n",
       "      <td>1</td>\n",
       "      <td>...</td>\n",
       "      <td>4</td>\n",
       "      <td>1</td>\n",
       "      <td>4</td>\n",
       "      <td>5</td>\n",
       "      <td>4</td>\n",
       "      <td>3</td>\n",
       "      <td>4</td>\n",
       "      <td>0</td>\n",
       "      <td>0.0</td>\n",
       "      <td>satisfied</td>\n",
       "    </tr>\n",
       "    <tr>\n",
       "      <th>11779</th>\n",
       "      <td>11779</td>\n",
       "      <td>31816</td>\n",
       "      <td>Female</td>\n",
       "      <td>Loyal Customer</td>\n",
       "      <td>45</td>\n",
       "      <td>Personal Travel</td>\n",
       "      <td>Eco</td>\n",
       "      <td>4983</td>\n",
       "      <td>3</td>\n",
       "      <td>1</td>\n",
       "      <td>...</td>\n",
       "      <td>2</td>\n",
       "      <td>5</td>\n",
       "      <td>2</td>\n",
       "      <td>3</td>\n",
       "      <td>1</td>\n",
       "      <td>4</td>\n",
       "      <td>1</td>\n",
       "      <td>2</td>\n",
       "      <td>0.0</td>\n",
       "      <td>neutral or dissatisfied</td>\n",
       "    </tr>\n",
       "    <tr>\n",
       "      <th>14261</th>\n",
       "      <td>14261</td>\n",
       "      <td>31872</td>\n",
       "      <td>Male</td>\n",
       "      <td>Loyal Customer</td>\n",
       "      <td>46</td>\n",
       "      <td>Business travel</td>\n",
       "      <td>Business</td>\n",
       "      <td>4983</td>\n",
       "      <td>1</td>\n",
       "      <td>1</td>\n",
       "      <td>...</td>\n",
       "      <td>1</td>\n",
       "      <td>3</td>\n",
       "      <td>5</td>\n",
       "      <td>5</td>\n",
       "      <td>4</td>\n",
       "      <td>3</td>\n",
       "      <td>4</td>\n",
       "      <td>0</td>\n",
       "      <td>0.0</td>\n",
       "      <td>satisfied</td>\n",
       "    </tr>\n",
       "    <tr>\n",
       "      <th>3953</th>\n",
       "      <td>3953</td>\n",
       "      <td>59265</td>\n",
       "      <td>Male</td>\n",
       "      <td>Loyal Customer</td>\n",
       "      <td>44</td>\n",
       "      <td>Business travel</td>\n",
       "      <td>Business</td>\n",
       "      <td>4963</td>\n",
       "      <td>5</td>\n",
       "      <td>5</td>\n",
       "      <td>...</td>\n",
       "      <td>3</td>\n",
       "      <td>2</td>\n",
       "      <td>3</td>\n",
       "      <td>4</td>\n",
       "      <td>4</td>\n",
       "      <td>4</td>\n",
       "      <td>4</td>\n",
       "      <td>0</td>\n",
       "      <td>0.0</td>\n",
       "      <td>satisfied</td>\n",
       "    </tr>\n",
       "    <tr>\n",
       "      <th>3645</th>\n",
       "      <td>3645</td>\n",
       "      <td>59263</td>\n",
       "      <td>Male</td>\n",
       "      <td>Loyal Customer</td>\n",
       "      <td>44</td>\n",
       "      <td>Business travel</td>\n",
       "      <td>Business</td>\n",
       "      <td>4963</td>\n",
       "      <td>5</td>\n",
       "      <td>5</td>\n",
       "      <td>...</td>\n",
       "      <td>3</td>\n",
       "      <td>3</td>\n",
       "      <td>4</td>\n",
       "      <td>4</td>\n",
       "      <td>4</td>\n",
       "      <td>5</td>\n",
       "      <td>4</td>\n",
       "      <td>0</td>\n",
       "      <td>0.0</td>\n",
       "      <td>satisfied</td>\n",
       "    </tr>\n",
       "    <tr>\n",
       "      <th>16795</th>\n",
       "      <td>16795</td>\n",
       "      <td>56477</td>\n",
       "      <td>Male</td>\n",
       "      <td>Loyal Customer</td>\n",
       "      <td>57</td>\n",
       "      <td>Business travel</td>\n",
       "      <td>Business</td>\n",
       "      <td>4963</td>\n",
       "      <td>4</td>\n",
       "      <td>4</td>\n",
       "      <td>...</td>\n",
       "      <td>5</td>\n",
       "      <td>3</td>\n",
       "      <td>4</td>\n",
       "      <td>4</td>\n",
       "      <td>3</td>\n",
       "      <td>4</td>\n",
       "      <td>3</td>\n",
       "      <td>4</td>\n",
       "      <td>13.0</td>\n",
       "      <td>satisfied</td>\n",
       "    </tr>\n",
       "    <tr>\n",
       "      <th>25704</th>\n",
       "      <td>25704</td>\n",
       "      <td>59264</td>\n",
       "      <td>Male</td>\n",
       "      <td>Loyal Customer</td>\n",
       "      <td>49</td>\n",
       "      <td>Business travel</td>\n",
       "      <td>Business</td>\n",
       "      <td>4963</td>\n",
       "      <td>1</td>\n",
       "      <td>1</td>\n",
       "      <td>...</td>\n",
       "      <td>4</td>\n",
       "      <td>4</td>\n",
       "      <td>3</td>\n",
       "      <td>4</td>\n",
       "      <td>4</td>\n",
       "      <td>4</td>\n",
       "      <td>4</td>\n",
       "      <td>23</td>\n",
       "      <td>0.0</td>\n",
       "      <td>satisfied</td>\n",
       "    </tr>\n",
       "    <tr>\n",
       "      <th>23360</th>\n",
       "      <td>23360</td>\n",
       "      <td>56476</td>\n",
       "      <td>Male</td>\n",
       "      <td>Loyal Customer</td>\n",
       "      <td>60</td>\n",
       "      <td>Business travel</td>\n",
       "      <td>Business</td>\n",
       "      <td>4963</td>\n",
       "      <td>2</td>\n",
       "      <td>5</td>\n",
       "      <td>...</td>\n",
       "      <td>5</td>\n",
       "      <td>3</td>\n",
       "      <td>4</td>\n",
       "      <td>4</td>\n",
       "      <td>3</td>\n",
       "      <td>3</td>\n",
       "      <td>3</td>\n",
       "      <td>5</td>\n",
       "      <td>13.0</td>\n",
       "      <td>satisfied</td>\n",
       "    </tr>\n",
       "    <tr>\n",
       "      <th>14591</th>\n",
       "      <td>14591</td>\n",
       "      <td>56482</td>\n",
       "      <td>Male</td>\n",
       "      <td>Loyal Customer</td>\n",
       "      <td>41</td>\n",
       "      <td>Personal Travel</td>\n",
       "      <td>Eco</td>\n",
       "      <td>4963</td>\n",
       "      <td>2</td>\n",
       "      <td>4</td>\n",
       "      <td>...</td>\n",
       "      <td>4</td>\n",
       "      <td>5</td>\n",
       "      <td>4</td>\n",
       "      <td>3</td>\n",
       "      <td>3</td>\n",
       "      <td>2</td>\n",
       "      <td>3</td>\n",
       "      <td>0</td>\n",
       "      <td>4.0</td>\n",
       "      <td>neutral or dissatisfied</td>\n",
       "    </tr>\n",
       "  </tbody>\n",
       "</table>\n",
       "<p>10 rows × 25 columns</p>\n",
       "</div>"
      ],
      "text/plain": [
       "       Unnamed: 0     id  Gender   Customer Type  Age   Type of Travel  \\\n",
       "14615       14615  31815  Female  Loyal Customer   49  Business travel   \n",
       "7851         7851  31874  Female  Loyal Customer   33  Business travel   \n",
       "11779       11779  31816  Female  Loyal Customer   45  Personal Travel   \n",
       "14261       14261  31872    Male  Loyal Customer   46  Business travel   \n",
       "3953         3953  59265    Male  Loyal Customer   44  Business travel   \n",
       "3645         3645  59263    Male  Loyal Customer   44  Business travel   \n",
       "16795       16795  56477    Male  Loyal Customer   57  Business travel   \n",
       "25704       25704  59264    Male  Loyal Customer   49  Business travel   \n",
       "23360       23360  56476    Male  Loyal Customer   60  Business travel   \n",
       "14591       14591  56482    Male  Loyal Customer   41  Personal Travel   \n",
       "\n",
       "          Class  Flight Distance  Inflight wifi service  \\\n",
       "14615  Business             4983                      4   \n",
       "7851   Business             4983                      1   \n",
       "11779       Eco             4983                      3   \n",
       "14261  Business             4983                      1   \n",
       "3953   Business             4963                      5   \n",
       "3645   Business             4963                      5   \n",
       "16795  Business             4963                      4   \n",
       "25704  Business             4963                      1   \n",
       "23360  Business             4963                      2   \n",
       "14591       Eco             4963                      2   \n",
       "\n",
       "       Departure/Arrival time convenient  ...  Inflight entertainment  \\\n",
       "14615                                  1  ...                       2   \n",
       "7851                                   1  ...                       4   \n",
       "11779                                  1  ...                       2   \n",
       "14261                                  1  ...                       1   \n",
       "3953                                   5  ...                       3   \n",
       "3645                                   5  ...                       3   \n",
       "16795                                  4  ...                       5   \n",
       "25704                                  1  ...                       4   \n",
       "23360                                  5  ...                       5   \n",
       "14591                                  4  ...                       4   \n",
       "\n",
       "       On-board service  Leg room service  Baggage handling  Checkin service  \\\n",
       "14615                 5                 2                 3                4   \n",
       "7851                  1                 4                 5                4   \n",
       "11779                 5                 2                 3                1   \n",
       "14261                 3                 5                 5                4   \n",
       "3953                  2                 3                 4                4   \n",
       "3645                  3                 4                 4                4   \n",
       "16795                 3                 4                 4                3   \n",
       "25704                 4                 3                 4                4   \n",
       "23360                 3                 4                 4                3   \n",
       "14591                 5                 4                 3                3   \n",
       "\n",
       "       Inflight service  Cleanliness  Departure Delay in Minutes  \\\n",
       "14615                 4            4                           0   \n",
       "7851                  3            4                           0   \n",
       "11779                 4            1                           2   \n",
       "14261                 3            4                           0   \n",
       "3953                  4            4                           0   \n",
       "3645                  5            4                           0   \n",
       "16795                 4            3                           4   \n",
       "25704                 4            4                          23   \n",
       "23360                 3            3                           5   \n",
       "14591                 2            3                           0   \n",
       "\n",
       "       Arrival Delay in Minutes             satisfaction  \n",
       "14615                      14.0  neutral or dissatisfied  \n",
       "7851                        0.0                satisfied  \n",
       "11779                       0.0  neutral or dissatisfied  \n",
       "14261                       0.0                satisfied  \n",
       "3953                        0.0                satisfied  \n",
       "3645                        0.0                satisfied  \n",
       "16795                      13.0                satisfied  \n",
       "25704                       0.0                satisfied  \n",
       "23360                      13.0                satisfied  \n",
       "14591                       4.0  neutral or dissatisfied  \n",
       "\n",
       "[10 rows x 25 columns]"
      ]
     },
     "execution_count": 21,
     "metadata": {},
     "output_type": "execute_result"
    }
   ],
   "source": [
    "pas_satisfaction.sort_values(['Flight Distance'], ascending = False).head(10)"
   ]
  },
  {
   "cell_type": "markdown",
   "id": "fe8daf9e",
   "metadata": {},
   "source": [
    "Посмотрим на распределние величин расстояния полета"
   ]
  },
  {
   "cell_type": "code",
   "execution_count": 22,
   "id": "1a41380c",
   "metadata": {},
   "outputs": [
    {
     "data": {
      "text/plain": [
       "<AxesSubplot:>"
      ]
     },
     "execution_count": 22,
     "metadata": {},
     "output_type": "execute_result"
    },
    {
     "data": {
      "image/png": "[encoded data removed]",
      "text/plain": [
       "<Figure size 432x288 with 1 Axes>"
      ]
     },
     "metadata": {
      "needs_background": "light"
     },
     "output_type": "display_data"
    }
   ],
   "source": [
    "pas_satisfaction['Flight Distance'].hist()"
   ]
  },
  {
   "cell_type": "markdown",
   "id": "a73c4317",
   "metadata": {},
   "source": [
    "По графику можно сделать вывод, что бОльшая часть пассажиров летает на небольшие расстояния до 1000"
   ]
  },
  {
   "cell_type": "markdown",
   "id": "ca850fc3",
   "metadata": {},
   "source": [
    "Посмотрим на графике уровень удовлетворенности поездкой в зависимости от расстояния перелета"
   ]
  },
  {
   "cell_type": "code",
   "execution_count": 70,
   "id": "4d69b9fb",
   "metadata": {},
   "outputs": [
    {
     "data": {
      "text/plain": [
       "Text(0.5, 1.0, 'Satisfaction by Flight Distance')"
      ]
     },
     "execution_count": 70,
     "metadata": {},
     "output_type": "execute_result"
    },
    {
     "data": {
      "image/png": "[encoded data removed]",
      "text/plain": [
       "<Figure size 649.125x504 with 1 Axes>"
      ]
     },
     "metadata": {
      "needs_background": "light"
     },
     "output_type": "display_data"
    }
   ],
   "source": [
    "sns.displot(x = \"Flight Distance\", data = pas_satisfaction, hue =\"satisfaction\", height = 7,palette =\"Spectral\"  )\n",
    "plt.title(\"Satisfaction by Flight Distance\")"
   ]
  },
  {
   "cell_type": "markdown",
   "id": "637ee0de",
   "metadata": {},
   "source": [
    "Вывод по графику: пассажиры, летающие на короткие расстояния остаются более недовольными, чем те, кто летает на расстояние 2000 и больше, что может быть связано с тем, что в долгих перелетах компании стараются предложить дополнительные услуги и повышенный уровень комфорта\n",
    "\n",
    "Посмотрим сколько всего опрошенных остались довольны авиаперевозкой"
   ]
  },
  {
   "cell_type": "code",
   "execution_count": 23,
   "id": "8f930bef",
   "metadata": {},
   "outputs": [
    {
     "data": {
      "text/plain": [
       "neutral or dissatisfied    14573\n",
       "satisfied                  11403\n",
       "Name: satisfaction, dtype: int64"
      ]
     },
     "execution_count": 23,
     "metadata": {},
     "output_type": "execute_result"
    }
   ],
   "source": [
    "pas_satisfaction.satisfaction.value_counts()"
   ]
  },
  {
   "cell_type": "code",
   "execution_count": 53,
   "id": "f383e103",
   "metadata": {},
   "outputs": [],
   "source": [
    "#смотрим сколько человек остались довольными поездкой\n",
    "satisfied = pas_satisfaction[pas_satisfaction['satisfaction'] == 'satisfied'].shape[0]"
   ]
  },
  {
   "cell_type": "code",
   "execution_count": 25,
   "id": "5a1d7fe5",
   "metadata": {},
   "outputs": [],
   "source": [
    "#считаем общее число пассажиров\n",
    "total = pas_satisfaction['satisfaction'].shape[0]"
   ]
  },
  {
   "cell_type": "code",
   "execution_count": 26,
   "id": "0f016b86",
   "metadata": {},
   "outputs": [
    {
     "name": "stdout",
     "output_type": "stream",
     "text": [
      "Процент удовлетворенных пассажиров равен  44%\n"
     ]
    }
   ],
   "source": [
    "sat_percent = satisfied/total\n",
    "print(f'Процент удовлетворенных пассажиров равен {sat_percent: .0%}')"
   ]
  },
  {
   "cell_type": "code",
   "execution_count": 27,
   "id": "9a085ab1",
   "metadata": {},
   "outputs": [
    {
     "data": {
      "image/png": "[encoded data removed]",
      "text/plain": [
       "<Figure size 432x288 with 1 Axes>"
      ]
     },
     "metadata": {},
     "output_type": "display_data"
    }
   ],
   "source": [
    "plt.pie(pas_satisfaction.satisfaction.value_counts(), labels = ['neutral or dissatisfied', 'satisfied'],\n",
    "        colors = sns.color_palette(\"Spectral\"), autopct = '%1.f%%')\n",
    "pass"
   ]
  },
  {
   "cell_type": "markdown",
   "id": "6f0b0e63",
   "metadata": {},
   "source": [
    "Таким образом, из всех опрошенных меньше половины (44%) остались довольными авиаперевозкой"
   ]
  },
  {
   "cell_type": "markdown",
   "id": "6b8b3105",
   "metadata": {},
   "source": [
    "Посмотрим, являются ли люди определенной возрастной категории более довольными поездкой"
   ]
  },
  {
   "cell_type": "code",
   "execution_count": 28,
   "id": "059584a6",
   "metadata": {},
   "outputs": [
    {
     "data": {
      "image/png": "[encoded data removed]",
      "text/plain": [
       "<Figure size 1440x576 with 1 Axes>"
      ]
     },
     "metadata": {
      "needs_background": "light"
     },
     "output_type": "display_data"
    }
   ],
   "source": [
    "plt.figure(figsize = (20,8))\n",
    "sns.kdeplot(data = pas_satisfaction, x= \"Age\", hue = \"satisfaction\", common_norm = False, palette =\"Spectral\")\n",
    "\n",
    "plt.suptitle(\"Satisfaction results by age\", fontsize = 14,)\n",
    "sns.despine(top = True, right = True, left = False, bottom = False)\n",
    "\n",
    "plt.show()"
   ]
  },
  {
   "cell_type": "markdown",
   "id": "a2ef079c",
   "metadata": {},
   "source": [
    "По графику можно сделать вывод, что категория молодых людей в возрасте примерно до 38 лет были менее довольными поездкой, в отличии от взрослых в возрасте 38-60, среди которых довольных поездкой было значительно больше"
   ]
  },
  {
   "cell_type": "markdown",
   "id": "c1efb7a2",
   "metadata": {},
   "source": [
    "Посмотрим пассажиров какого класса было больше в опросе"
   ]
  },
  {
   "cell_type": "code",
   "execution_count": 29,
   "id": "56400f32",
   "metadata": {},
   "outputs": [
    {
     "data": {
      "text/plain": [
       "Business    12495\n",
       "Eco         11564\n",
       "Eco Plus     1917\n",
       "Name: Class, dtype: int64"
      ]
     },
     "execution_count": 29,
     "metadata": {},
     "output_type": "execute_result"
    }
   ],
   "source": [
    "pas_satisfaction['Class'].value_counts()"
   ]
  },
  {
   "cell_type": "markdown",
   "id": "b8c4cb33",
   "metadata": {},
   "source": [
    "Пассажиров бизнес класса в опросе было почти столько же, сколько и пользующихся экономом, тех, кто выбирает эконом плюс оказалось меньше всего"
   ]
  },
  {
   "cell_type": "markdown",
   "id": "8f1b7b36",
   "metadata": {},
   "source": [
    "Проверим гипотезу: лояльные клиенты больше остаются удовлетовренными в отличии от нелояльных"
   ]
  },
  {
   "cell_type": "code",
   "execution_count": 30,
   "id": "b310f829",
   "metadata": {},
   "outputs": [
    {
     "data": {
      "text/plain": [
       "Customer Type      satisfaction           \n",
       "Loyal Customer     neutral or dissatisfied    10982\n",
       "                   satisfied                  10195\n",
       "disloyal Customer  neutral or dissatisfied     3591\n",
       "                   satisfied                   1208\n",
       "Name: satisfaction, dtype: int64"
      ]
     },
     "execution_count": 30,
     "metadata": {},
     "output_type": "execute_result"
    }
   ],
   "source": [
    "pas_satisfaction.groupby('Customer Type')['satisfaction'].value_counts()"
   ]
  },
  {
   "cell_type": "markdown",
   "id": "aea43274",
   "metadata": {},
   "source": [
    "Гипотеза подтвердилась, однако, как мы можем видеть, среди опрошенных доля лояльных клиентов значительно превалирует в выборке, что может искажать подтверждение гипотезы относительно генеральной совокупности"
   ]
  },
  {
   "cell_type": "markdown",
   "id": "2c970cfb",
   "metadata": {},
   "source": [
    "Проверим еще одну гипотезу: *доля* пассажиров эконом класса, оставшихся довольными поездкой, ниже, чем в бизнес классе"
   ]
  },
  {
   "cell_type": "markdown",
   "id": "2c1afde3",
   "metadata": {},
   "source": [
    "Для начала посмотрим, какие классы представлены в таблице"
   ]
  },
  {
   "cell_type": "code",
   "execution_count": 31,
   "id": "ff3baff6",
   "metadata": {},
   "outputs": [
    {
     "data": {
      "text/plain": [
       "array(['Eco', 'Business', 'Eco Plus'], dtype=object)"
      ]
     },
     "execution_count": 31,
     "metadata": {},
     "output_type": "execute_result"
    }
   ],
   "source": [
    "pas_satisfaction['Class'].unique()"
   ]
  },
  {
   "cell_type": "code",
   "execution_count": 32,
   "id": "c69b6014",
   "metadata": {},
   "outputs": [
    {
     "data": {
      "text/plain": [
       "Class     satisfaction           \n",
       "Business  satisfied                  8686\n",
       "          neutral or dissatisfied    3809\n",
       "Eco       neutral or dissatisfied    9322\n",
       "          satisfied                  2242\n",
       "Eco Plus  neutral or dissatisfied    1442\n",
       "          satisfied                   475\n",
       "Name: satisfaction, dtype: int64"
      ]
     },
     "execution_count": 32,
     "metadata": {},
     "output_type": "execute_result"
    }
   ],
   "source": [
    "#сгруппируем данные по классу\n",
    "pas_satisfaction.groupby('Class')['satisfaction'].value_counts()"
   ]
  },
  {
   "cell_type": "markdown",
   "id": "39a7668a",
   "metadata": {},
   "source": [
    "Считаем долю довольных пассажиров в бизнес классе и в экономе (без эконом плюс)"
   ]
  },
  {
   "cell_type": "code",
   "execution_count": 33,
   "id": "32c43134",
   "metadata": {},
   "outputs": [],
   "source": [
    "sat_business = pas_satisfaction[(pas_satisfaction['Class'] == 'Business')&\n",
    "                                (pas_satisfaction['satisfaction'] == 'satisfied')].shape[0]\n",
    "business_total = pas_satisfaction[(pas_satisfaction['Class'] == 'Business')].shape[0]\n",
    "business_percent = sat_business/business_total "
   ]
  },
  {
   "cell_type": "code",
   "execution_count": 34,
   "id": "0975512c",
   "metadata": {},
   "outputs": [],
   "source": [
    "sat_eco = pas_satisfaction[(pas_satisfaction['Class'] == 'Eco')&\n",
    "                           (pas_satisfaction['satisfaction'] == 'satisfied')].shape[0]\n",
    "eco_total = pas_satisfaction[(pas_satisfaction['Class'] == 'Eco')].shape[0]\n",
    "eco_percent = sat_eco/eco_total "
   ]
  },
  {
   "cell_type": "code",
   "execution_count": 35,
   "id": "7e12dd40",
   "metadata": {},
   "outputs": [
    {
     "name": "stdout",
     "output_type": "stream",
     "text": [
      "Процент удовлетворенных в классе бизнес  70%\n",
      "Процент удовлетворенных пассажиров равен  19%\n"
     ]
    }
   ],
   "source": [
    "print(f'Процент удовлетворенных в классе бизнес {business_percent: .0%}')\n",
    "print(f'Процент удовлетворенных пассажиров равен {eco_percent: .0%}')"
   ]
  },
  {
   "cell_type": "markdown",
   "id": "ff518700",
   "metadata": {},
   "source": [
    "Визуализируем данные"
   ]
  },
  {
   "cell_type": "code",
   "execution_count": 36,
   "id": "35e5882d",
   "metadata": {},
   "outputs": [
    {
     "data": {
      "text/plain": [
       "<AxesSubplot:xlabel='Class'>"
      ]
     },
     "execution_count": 36,
     "metadata": {},
     "output_type": "execute_result"
    },
    {
     "data": {
      "image/png": "[encoded data removed]",
      "text/plain": [
       "<Figure size 432x288 with 1 Axes>"
      ]
     },
     "metadata": {
      "needs_background": "light"
     },
     "output_type": "display_data"
    }
   ],
   "source": [
    "pas_satisfaction.groupby('Class')['satisfaction'].value_counts().unstack().plot(kind='bar', stacked=True)"
   ]
  },
  {
   "cell_type": "markdown",
   "id": "7fabe2c7",
   "metadata": {},
   "source": [
    "Выдвинутая гипотеза подтвердилась, в бизнес классе доля удовлетворенных пассажиров в три раза превышает тех, кто остался довольным поездкой в эконом классе, а вот в экономе и эконом плюсе больше нейтральных или недовольных пассажиров"
   ]
  },
  {
   "cell_type": "markdown",
   "id": "799f28fa",
   "metadata": {},
   "source": [
    "**Создание новых переменных**"
   ]
  },
  {
   "attachments": {},
   "cell_type": "markdown",
   "id": "1fb32b41",
   "metadata": {},
   "source": [
    "Создадим бинарную переменную: если расстояние полета превышает 2000 значение принимается за единицу, если выходит за эти значения, тогда принимается за 0"
   ]
  },
  {
   "cell_type": "code",
   "execution_count": 37,
   "id": "5223f7d3",
   "metadata": {},
   "outputs": [],
   "source": [
    "pas_satisfaction['long_flight'] = pas_satisfaction['Flight Distance'].apply(lambda x: 1 if x > 2000 else 0)"
   ]
  },
  {
   "cell_type": "code",
   "execution_count": 38,
   "id": "3cbbbc42",
   "metadata": {},
   "outputs": [
    {
     "data": {
      "text/plain": [
       "0        0\n",
       "1        1\n",
       "2        0\n",
       "3        1\n",
       "4        0\n",
       "        ..\n",
       "25971    0\n",
       "25972    0\n",
       "25973    0\n",
       "25974    0\n",
       "25975    0\n",
       "Name: long_flight, Length: 25976, dtype: int64"
      ]
     },
     "execution_count": 38,
     "metadata": {},
     "output_type": "execute_result"
    }
   ],
   "source": [
    "pas_satisfaction['long_flight']"
   ]
  },
  {
   "attachments": {},
   "cell_type": "markdown",
   "id": "de4b3cb9",
   "metadata": {},
   "source": [
    "Создадим категориальную переменную на основе количественной Departure Delay in Minutes: если задержка составила 0-5 минут - вылетел вовремя, 6-30 минут - небольшая задержка рейса, 31-60 - существенная задержка рейса, 60+ - рейс сильно задержался"
   ]
  },
  {
   "cell_type": "code",
   "execution_count": 39,
   "id": "7d89f926",
   "metadata": {},
   "outputs": [],
   "source": [
    "def departure_delay(time):\n",
    "    if 0 <= time <= 5:\n",
    "        return 'in time'\n",
    "    elif 6 <= time <= 30:\n",
    "        return 'slight delay'\n",
    "    elif 31 <= time <= 60:\n",
    "        return 'significant delay'\n",
    "    elif time > 60:\n",
    "        return 'heavily delay'\n",
    "    else:\n",
    "        return time\n",
    "\n",
    "pas_satisfaction['delay_category'] = pas_satisfaction['Departure Delay in Minutes'].apply(departure_delay) "
   ]
  },
  {
   "cell_type": "code",
   "execution_count": 40,
   "id": "b396bd39",
   "metadata": {},
   "outputs": [
    {
     "data": {
      "text/plain": [
       "in time              17428\n",
       "slight delay          4979\n",
       "significant delay     1833\n",
       "heavily delay         1736\n",
       "Name: delay_category, dtype: int64"
      ]
     },
     "execution_count": 40,
     "metadata": {},
     "output_type": "execute_result"
    }
   ],
   "source": [
    "#проверяем сколько полетов попало в каждую из выделенных категорий\n",
    "pas_satisfaction['delay_category'].value_counts()"
   ]
  },
  {
   "cell_type": "code",
   "execution_count": 41,
   "id": "a27d9a37",
   "metadata": {},
   "outputs": [
    {
     "data": {
      "text/plain": [
       "<AxesSubplot:>"
      ]
     },
     "execution_count": 41,
     "metadata": {},
     "output_type": "execute_result"
    },
    {
     "data": {
      "image/png": "[encoded data removed]",
      "text/plain": [
       "<Figure size 432x288 with 1 Axes>"
      ]
     },
     "metadata": {
      "needs_background": "light"
     },
     "output_type": "display_data"
    }
   ],
   "source": [
    "pas_satisfaction['delay_category'].value_counts().plot(kind='bar')"
   ]
  },
  {
   "cell_type": "markdown",
   "id": "bfff68a7",
   "metadata": {},
   "source": [
    "Итак, создав новую переменную, мы видим, что вовремя вылетела большая часть рейсов. Посмотрим на формат новой переменной и сделаем из нее категориальную"
   ]
  },
  {
   "cell_type": "code",
   "execution_count": 42,
   "id": "4ffb90ee",
   "metadata": {},
   "outputs": [
    {
     "name": "stdout",
     "output_type": "stream",
     "text": [
      "<class 'pandas.core.frame.DataFrame'>\n",
      "RangeIndex: 25976 entries, 0 to 25975\n",
      "Data columns (total 27 columns):\n",
      " #   Column                             Non-Null Count  Dtype  \n",
      "---  ------                             --------------  -----  \n",
      " 0   Unnamed: 0                         25976 non-null  int64  \n",
      " 1   id                                 25976 non-null  int64  \n",
      " 2   Gender                             25976 non-null  object \n",
      " 3   Customer Type                      25976 non-null  object \n",
      " 4   Age                                25976 non-null  int64  \n",
      " 5   Type of Travel                     25976 non-null  object \n",
      " 6   Class                              25976 non-null  object \n",
      " 7   Flight Distance                    25976 non-null  int64  \n",
      " 8   Inflight wifi service              25976 non-null  int64  \n",
      " 9   Departure/Arrival time convenient  25976 non-null  int64  \n",
      " 10  Ease of Online booking             25976 non-null  int64  \n",
      " 11  Gate location                      25976 non-null  int64  \n",
      " 12  Food and drink                     25976 non-null  int64  \n",
      " 13  Online boarding                    25976 non-null  int64  \n",
      " 14  Seat comfort                       25976 non-null  int64  \n",
      " 15  Inflight entertainment             25976 non-null  int64  \n",
      " 16  On-board service                   25976 non-null  int64  \n",
      " 17  Leg room service                   25976 non-null  int64  \n",
      " 18  Baggage handling                   25976 non-null  int64  \n",
      " 19  Checkin service                    25976 non-null  int64  \n",
      " 20  Inflight service                   25976 non-null  int64  \n",
      " 21  Cleanliness                        25976 non-null  int64  \n",
      " 22  Departure Delay in Minutes         25976 non-null  int64  \n",
      " 23  Arrival Delay in Minutes           25976 non-null  float64\n",
      " 24  satisfaction                       25976 non-null  object \n",
      " 25  long_flight                        25976 non-null  int64  \n",
      " 26  delay_category                     25976 non-null  object \n",
      "dtypes: float64(1), int64(20), object(6)\n",
      "memory usage: 5.4+ MB\n"
     ]
    }
   ],
   "source": [
    "pas_satisfaction.info()"
   ]
  },
  {
   "cell_type": "code",
   "execution_count": 43,
   "id": "f59803a6",
   "metadata": {},
   "outputs": [],
   "source": [
    "pas_satisfaction['delay_category'] = pd.Categorical(pas_satisfaction['delay_category'])"
   ]
  },
  {
   "cell_type": "code",
   "execution_count": 44,
   "id": "8faac143",
   "metadata": {},
   "outputs": [
    {
     "data": {
      "text/plain": [
       "CategoricalDtype(categories=['heavily delay', 'in time', 'significant delay',\n",
       "                  'slight delay'],\n",
       ", ordered=False)"
      ]
     },
     "execution_count": 44,
     "metadata": {},
     "output_type": "execute_result"
    }
   ],
   "source": [
    "pas_satisfaction['delay_category'].dtype"
   ]
  },
  {
   "cell_type": "markdown",
   "id": "e3e7bbd9",
   "metadata": {},
   "source": [
    "Используем наши новые сгруппированные значения и проверим гипотезу: пассажиры, вылетающие вовремя более довольны поездкой, чем те, у кого рейс задержался"
   ]
  },
  {
   "cell_type": "code",
   "execution_count": 45,
   "id": "1d434aa4",
   "metadata": {},
   "outputs": [
    {
     "data": {
      "text/plain": [
       "8064"
      ]
     },
     "execution_count": 45,
     "metadata": {},
     "output_type": "execute_result"
    }
   ],
   "source": [
    "pas_satisfaction[(pas_satisfaction['delay_category']=='in time')\n",
    "                 &(pas_satisfaction['satisfaction']=='satisfied')].shape[0]"
   ]
  },
  {
   "cell_type": "code",
   "execution_count": 46,
   "id": "069b0484",
   "metadata": {},
   "outputs": [
    {
     "data": {
      "text/plain": [
       "3339"
      ]
     },
     "execution_count": 46,
     "metadata": {},
     "output_type": "execute_result"
    }
   ],
   "source": [
    "pas_satisfaction[(pas_satisfaction['delay_category']!='in time')\n",
    "                 &(pas_satisfaction['satisfaction']=='satisfied')].shape[0]"
   ]
  },
  {
   "cell_type": "markdown",
   "id": "77942251",
   "metadata": {},
   "source": [
    "Действительно, вылетающие вовремя пассажиры более довольны поездкой"
   ]
  },
  {
   "cell_type": "markdown",
   "id": "48c0e29d",
   "metadata": {},
   "source": [
    "Создадим еще одну переменную на основе нескольких колонок. Представим, что поездку можно считать идеальной, если самолет вылетел по расписанию, вам понравились еда и напитки, было комфортное сидение, прекрасный сервис на борту и чистота"
   ]
  },
  {
   "cell_type": "code",
   "execution_count": 47,
   "id": "f394df3a",
   "metadata": {},
   "outputs": [],
   "source": [
    "pas_satisfaction['happy_flight'] = np.where((pas_satisfaction['delay_category'] == 'in time') &\n",
    "         (pas_satisfaction['Food and drink'] == 5) &\n",
    "         (pas_satisfaction['Seat comfort'] == 5) &\n",
    "         (pas_satisfaction['On-board service'] == 5) &\n",
    "         (pas_satisfaction['Cleanliness'] == 5 ), 1, 0)"
   ]
  },
  {
   "cell_type": "code",
   "execution_count": 48,
   "id": "647b2339",
   "metadata": {},
   "outputs": [
    {
     "data": {
      "text/plain": [
       "444"
      ]
     },
     "execution_count": 48,
     "metadata": {},
     "output_type": "execute_result"
    }
   ],
   "source": [
    "pas_satisfaction['happy_flight'].sum()"
   ]
  },
  {
   "cell_type": "markdown",
   "id": "f27ec495",
   "metadata": {},
   "source": [
    "Получилось, что идеальная поездка была у 444 опрошенных"
   ]
  },
  {
   "cell_type": "markdown",
   "id": "e8011970",
   "metadata": {},
   "source": [
    "Сгруппируем данные по степени удовлетворенности и посмотрим на средние значения, которые ставили пассажиры"
   ]
  },
  {
   "cell_type": "code",
   "execution_count": 49,
   "id": "00c0ebde",
   "metadata": {},
   "outputs": [
    {
     "data": {
      "text/html": [
       "<div>\n",
       "<style scoped>\n",
       "    .dataframe tbody tr th:only-of-type {\n",
       "        vertical-align: middle;\n",
       "    }\n",
       "\n",
       "    .dataframe tbody tr th {\n",
       "        vertical-align: top;\n",
       "    }\n",
       "\n",
       "    .dataframe thead tr th {\n",
       "        text-align: left;\n",
       "    }\n",
       "\n",
       "    .dataframe thead tr:last-of-type th {\n",
       "        text-align: right;\n",
       "    }\n",
       "</style>\n",
       "<table border=\"1\" class=\"dataframe\">\n",
       "  <thead>\n",
       "    <tr>\n",
       "      <th></th>\n",
       "      <th colspan=\"14\" halign=\"left\">mean</th>\n",
       "    </tr>\n",
       "    <tr>\n",
       "      <th></th>\n",
       "      <th>Baggage handling</th>\n",
       "      <th>Checkin service</th>\n",
       "      <th>Cleanliness</th>\n",
       "      <th>Departure/Arrival time convenient</th>\n",
       "      <th>Ease of Online booking</th>\n",
       "      <th>Food and drink</th>\n",
       "      <th>Gate location</th>\n",
       "      <th>Inflight entertainment</th>\n",
       "      <th>Inflight service</th>\n",
       "      <th>Inflight wifi service</th>\n",
       "      <th>Leg room service</th>\n",
       "      <th>On-board service</th>\n",
       "      <th>Online boarding</th>\n",
       "      <th>Seat comfort</th>\n",
       "    </tr>\n",
       "    <tr>\n",
       "      <th>satisfaction</th>\n",
       "      <th></th>\n",
       "      <th></th>\n",
       "      <th></th>\n",
       "      <th></th>\n",
       "      <th></th>\n",
       "      <th></th>\n",
       "      <th></th>\n",
       "      <th></th>\n",
       "      <th></th>\n",
       "      <th></th>\n",
       "      <th></th>\n",
       "      <th></th>\n",
       "      <th></th>\n",
       "      <th></th>\n",
       "    </tr>\n",
       "  </thead>\n",
       "  <tbody>\n",
       "    <tr>\n",
       "      <th>neutral or dissatisfied</th>\n",
       "      <td>3.370548</td>\n",
       "      <td>3.043025</td>\n",
       "      <td>2.919371</td>\n",
       "      <td>3.134701</td>\n",
       "      <td>2.559665</td>\n",
       "      <td>2.959926</td>\n",
       "      <td>2.995951</td>\n",
       "      <td>2.885473</td>\n",
       "      <td>3.392781</td>\n",
       "      <td>2.393536</td>\n",
       "      <td>2.988952</td>\n",
       "      <td>3.021066</td>\n",
       "      <td>2.668702</td>\n",
       "      <td>3.044878</td>\n",
       "    </tr>\n",
       "    <tr>\n",
       "      <th>satisfied</th>\n",
       "      <td>3.968956</td>\n",
       "      <td>3.660703</td>\n",
       "      <td>3.755064</td>\n",
       "      <td>2.934491</td>\n",
       "      <td>3.008682</td>\n",
       "      <td>3.541787</td>\n",
       "      <td>2.952995</td>\n",
       "      <td>3.961326</td>\n",
       "      <td>3.977024</td>\n",
       "      <td>3.148031</td>\n",
       "      <td>3.811804</td>\n",
       "      <td>3.851618</td>\n",
       "      <td>4.019469</td>\n",
       "      <td>3.965974</td>\n",
       "    </tr>\n",
       "  </tbody>\n",
       "</table>\n",
       "</div>"
      ],
      "text/plain": [
       "                                    mean                              \\\n",
       "                        Baggage handling Checkin service Cleanliness   \n",
       "satisfaction                                                           \n",
       "neutral or dissatisfied         3.370548        3.043025    2.919371   \n",
       "satisfied                       3.968956        3.660703    3.755064   \n",
       "\n",
       "                                                           \\\n",
       "                        Departure/Arrival time convenient   \n",
       "satisfaction                                                \n",
       "neutral or dissatisfied                          3.134701   \n",
       "satisfied                                        2.934491   \n",
       "\n",
       "                                                                             \\\n",
       "                        Ease of Online booking Food and drink Gate location   \n",
       "satisfaction                                                                  \n",
       "neutral or dissatisfied               2.559665       2.959926      2.995951   \n",
       "satisfied                             3.008682       3.541787      2.952995   \n",
       "\n",
       "                                                                 \\\n",
       "                        Inflight entertainment Inflight service   \n",
       "satisfaction                                                      \n",
       "neutral or dissatisfied               2.885473         3.392781   \n",
       "satisfied                             3.961326         3.977024   \n",
       "\n",
       "                                                                \\\n",
       "                        Inflight wifi service Leg room service   \n",
       "satisfaction                                                     \n",
       "neutral or dissatisfied              2.393536         2.988952   \n",
       "satisfied                            3.148031         3.811804   \n",
       "\n",
       "                                                                       \n",
       "                        On-board service Online boarding Seat comfort  \n",
       "satisfaction                                                           \n",
       "neutral or dissatisfied         3.021066        2.668702     3.044878  \n",
       "satisfied                       3.851618        4.019469     3.965974  "
      ]
     },
     "execution_count": 49,
     "metadata": {},
     "output_type": "execute_result"
    }
   ],
   "source": [
    "pas_satisfaction.pivot_table(index='satisfaction', \n",
    "                  values=['Inflight wifi service', 'Departure/Arrival time convenient', 'Ease of Online booking', \n",
    "                         'Gate location', 'Food and drink', 'Online boarding', 'Seat comfort',\n",
    "                         'Inflight entertainment', 'On-board service', 'Leg room service', 'Baggage handling', \n",
    "                         'Checkin service', 'Inflight service', 'Cleanliness'],\n",
    "                  aggfunc=['mean'])"
   ]
  },
  {
   "cell_type": "markdown",
   "id": "f92c7818",
   "metadata": {},
   "source": [
    "По пивотальной таблице мы видим,  что удовлетворенные пассажиры в среднем ставили лишь чуть более высокие оценки, а по некторым показаетлям и ниже, чем нейтральные или неудовлетворенные пассажиры. Следует отметить, что оценка онлайн регистрации в среднем значительно выше у удовлетворенных пассажиров"
   ]
  },
  {
   "cell_type": "markdown",
   "id": "22552323",
   "metadata": {},
   "source": [
    "**Корреляция, z-оценка, выбросы**"
   ]
  },
  {
   "cell_type": "markdown",
   "id": "29319c4f",
   "metadata": {},
   "source": [
    "Посмотрим, есть ли зависимости между исследуемыми переменными"
   ]
  },
  {
   "cell_type": "code",
   "execution_count": 50,
   "id": "5b8efbe1",
   "metadata": {},
   "outputs": [],
   "source": [
    "corr = pas_satisfaction.corr()"
   ]
  },
  {
   "cell_type": "code",
   "execution_count": 51,
   "id": "ee34ce87",
   "metadata": {},
   "outputs": [
    {
     "data": {
      "text/plain": [
       "Unnamed: 0                  Unnamed: 0                           1.000000\n",
       "Arrival Delay in Minutes    Departure Delay in Minutes           0.955770\n",
       "Flight Distance             long_flight                          0.859602\n",
       "Inflight wifi service       Ease of Online booking               0.710684\n",
       "Inflight entertainment      Cleanliness                          0.695269\n",
       "                                                                   ...   \n",
       "Gate location               Inflight entertainment               0.000340\n",
       "Online boarding             Unnamed: 0                           0.000254\n",
       "Departure Delay in Minutes  Departure/Arrival time convenient    0.000238\n",
       "Arrival Delay in Minutes    Flight Distance                      0.000117\n",
       "Checkin service             Ease of Online booking               0.000108\n",
       "Length: 232, dtype: float64"
      ]
     },
     "execution_count": 51,
     "metadata": {},
     "output_type": "execute_result"
    }
   ],
   "source": [
    "corr.abs().unstack().sort_values(ascending=False).drop_duplicates()"
   ]
  },
  {
   "cell_type": "code",
   "execution_count": 55,
   "id": "6d37ae34",
   "metadata": {},
   "outputs": [
    {
     "data": {
      "text/plain": [
       "<AxesSubplot:>"
      ]
     },
     "execution_count": 55,
     "metadata": {},
     "output_type": "execute_result"
    },
    {
     "data": {
      "image/png": "[encoded data removed]",
      "text/plain": [
       "<Figure size 432x288 with 2 Axes>"
      ]
     },
     "metadata": {
      "needs_background": "light"
     },
     "output_type": "display_data"
    }
   ],
   "source": [
    "mask = np.triu(corr)\n",
    "sns.heatmap(corr, center = 1, annot = True, mask = mask, annot_kws = {'size':1})"
   ]
  },
  {
   "cell_type": "markdown",
   "id": "0c9929ee",
   "metadata": {},
   "source": [
    "По графику уже видны зависимости между некоторыми переменными, однако данные плохо читаются, поэтому построим еще одну тепловую карту"
   ]
  },
  {
   "cell_type": "code",
   "execution_count": 56,
   "id": "2aaceb43",
   "metadata": {},
   "outputs": [
    {
     "data": {
      "text/plain": [
       "<AxesSubplot:>"
      ]
     },
     "execution_count": 56,
     "metadata": {},
     "output_type": "execute_result"
    },
    {
     "data": {
      "image/png": "[encoded data removed]",
      "text/plain": [
       "<Figure size 720x576 with 2 Axes>"
      ]
     },
     "metadata": {
      "needs_background": "light"
     },
     "output_type": "display_data"
    }
   ],
   "source": [
    "plt.figure(figsize = (10,8))\n",
    "sns.heatmap(corr, annot = True,\n",
    "            center = 1,\n",
    "            annot_kws = {'size':6},\n",
    "            cmap = 'Greens',\n",
    "            vmax = 1,\n",
    "            vmin = -1,\n",
    "            mask = mask,\n",
    "            fmt = '.1g',\n",
    "            cbar_kws = {'label': 'Цвет шкалы'})"
   ]
  },
  {
   "cell_type": "markdown",
   "id": "3f3b389b",
   "metadata": {},
   "source": [
    "* Итак, мы видим зависимость между задержкой времени отправления и времени прибытия (коэффициент = 0,95), что выглядит вполне логичным: если самолет задержался при вылете, он скорее всего задержится и по прибытии.\n",
    "* Высокая зависимость наблюдается между оценками чистоты и оценками за еду и напитки, комфорт и развлечения на борту\n",
    "* Также высокая зависимость между оценкамой легкости онлайн бронирования и вай-фаем на борту"
   ]
  },
  {
   "cell_type": "markdown",
   "id": "d4c28975",
   "metadata": {},
   "source": [
    "Посмотрим, как выглядит зависимость на графике между задержкой отправления и прилета"
   ]
  },
  {
   "cell_type": "code",
   "execution_count": 57,
   "id": "27555dd1",
   "metadata": {},
   "outputs": [
    {
     "data": {
      "text/plain": [
       "<AxesSubplot:xlabel='Departure Delay in Minutes', ylabel='Arrival Delay in Minutes'>"
      ]
     },
     "execution_count": 57,
     "metadata": {},
     "output_type": "execute_result"
    },
    {
     "data": {
      "image/png": "[encoded data removed]",
      "text/plain": [
       "<Figure size 432x288 with 1 Axes>"
      ]
     },
     "metadata": {
      "needs_background": "light"
     },
     "output_type": "display_data"
    }
   ],
   "source": [
    "pas_satisfaction.plot('Departure Delay in Minutes', 'Arrival Delay in Minutes', kind= 'scatter')"
   ]
  },
  {
   "cell_type": "markdown",
   "id": "a6a42044",
   "metadata": {},
   "source": [
    "Как мы видим, зависимость между переменными ярко выражена на графике, при этом характер зависимости - линейный"
   ]
  },
  {
   "cell_type": "markdown",
   "id": "867de6b0",
   "metadata": {},
   "source": [
    "Далее допустим нам надо посмотреть, на сколько у нашего пассажира с индексом 777 отклоняется время задержки от среднего значения"
   ]
  },
  {
   "cell_type": "code",
   "execution_count": 58,
   "id": "c8a2b0d5",
   "metadata": {},
   "outputs": [],
   "source": [
    "pas_satisfaction['z-score'] = scipy.stats.zscore(pas_satisfaction['Departure Delay in Minutes'])"
   ]
  },
  {
   "cell_type": "code",
   "execution_count": 59,
   "id": "b907da3d",
   "metadata": {},
   "outputs": [
    {
     "data": {
      "text/plain": [
       "0.5797032459462116"
      ]
     },
     "execution_count": 59,
     "metadata": {},
     "output_type": "execute_result"
    }
   ],
   "source": [
    "pas_satisfaction['z-score'][777]"
   ]
  },
  {
   "cell_type": "markdown",
   "id": "f84e4b12",
   "metadata": {},
   "source": [
    "Таким образом, мы видим, что наш пассажир задержался больше, чем в среднем\n",
    "\n",
    "Посмотрим, какие оценки ставили задержавшиеся пассажиры"
   ]
  },
  {
   "cell_type": "code",
   "execution_count": 60,
   "id": "4984c7c5",
   "metadata": {},
   "outputs": [
    {
     "data": {
      "text/plain": [
       "Departure/Arrival time convenient\n",
       "0   -0.070698\n",
       "1    0.016875\n",
       "2    0.017011\n",
       "3    0.006217\n",
       "4   -0.006762\n",
       "5   -0.004798\n",
       "Name: z-score, dtype: float64"
      ]
     },
     "execution_count": 60,
     "metadata": {},
     "output_type": "execute_result"
    }
   ],
   "source": [
    "pas_satisfaction.groupby('Departure/Arrival time convenient')['z-score'].mean()"
   ]
  },
  {
   "cell_type": "markdown",
   "id": "d23bea7c",
   "metadata": {},
   "source": [
    "Можно сделать вывод, что пассажиры, которые задержались больше среднего, ставили 1-3 балла за время отправления/прибытия, что выглядит вполне логичным раз их рейс задержали"
   ]
  },
  {
   "cell_type": "markdown",
   "id": "a90487b7",
   "metadata": {},
   "source": [
    "Попробуем найти аномальные значения задержки вылета"
   ]
  },
  {
   "cell_type": "code",
   "execution_count": 61,
   "id": "ba1c52ad",
   "metadata": {},
   "outputs": [
    {
     "data": {
      "text/plain": [
       "count    25976.00000\n",
       "mean        14.30609\n",
       "std         37.42316\n",
       "min          0.00000\n",
       "25%          0.00000\n",
       "50%          0.00000\n",
       "75%         12.00000\n",
       "max       1128.00000\n",
       "Name: Departure Delay in Minutes, dtype: float64"
      ]
     },
     "execution_count": 61,
     "metadata": {},
     "output_type": "execute_result"
    }
   ],
   "source": [
    "pas_satisfaction['Departure Delay in Minutes'].describe()"
   ]
  },
  {
   "cell_type": "code",
   "execution_count": 62,
   "id": "0b8e25bf",
   "metadata": {},
   "outputs": [],
   "source": [
    "q3 = np.percentile(pas_satisfaction['Departure Delay in Minutes'], 75)\n",
    "q1 = np.percentile(pas_satisfaction['Departure Delay in Minutes'], 25)"
   ]
  },
  {
   "cell_type": "markdown",
   "id": "66b52700",
   "metadata": {},
   "source": [
    "Найдем интерквартильный размах"
   ]
  },
  {
   "cell_type": "code",
   "execution_count": 63,
   "id": "6c0de36c",
   "metadata": {},
   "outputs": [
    {
     "name": "stdout",
     "output_type": "stream",
     "text": [
      "12.0\n"
     ]
    }
   ],
   "source": [
    "iqr = q3 - q1\n",
    "print(iqr)"
   ]
  },
  {
   "cell_type": "markdown",
   "id": "162abe70",
   "metadata": {},
   "source": [
    "Ищем границу сверху и снизу, чтобы понять, что мы будем брать за выбросы"
   ]
  },
  {
   "cell_type": "code",
   "execution_count": 64,
   "id": "4491ac0a",
   "metadata": {},
   "outputs": [
    {
     "name": "stdout",
     "output_type": "stream",
     "text": [
      "-18.0 30.0\n"
     ]
    }
   ],
   "source": [
    "iqr_bottom = q1 - 1.5 * iqr\n",
    "iqr_top = q3 + 1.5 * iqr\n",
    "print(iqr_bottom, iqr_top)"
   ]
  },
  {
   "cell_type": "markdown",
   "id": "6e66c131",
   "metadata": {},
   "source": [
    "итак, первое число отрицательное, получается слева выбросов нет"
   ]
  },
  {
   "cell_type": "code",
   "execution_count": 65,
   "id": "ff84c7ab",
   "metadata": {},
   "outputs": [
    {
     "data": {
      "text/plain": [
       "(3569, 29)"
      ]
     },
     "execution_count": 65,
     "metadata": {},
     "output_type": "execute_result"
    }
   ],
   "source": [
    "pas_satisfaction[pas_satisfaction['Departure Delay in Minutes'] > iqr_top].shape"
   ]
  },
  {
   "cell_type": "markdown",
   "id": "b94d51b5",
   "metadata": {},
   "source": [
    "Получается в нашей выборке содердится 3569 аномальных значений задержки вылета рейса\n",
    "\n",
    "Посмотрим, где аномальных значений встречается больше: в полетах на большое расстояние или на короткое"
   ]
  },
  {
   "cell_type": "code",
   "execution_count": 66,
   "id": "56949d8e",
   "metadata": {},
   "outputs": [
    {
     "data": {
      "text/plain": [
       "0    2849\n",
       "1     720\n",
       "Name: long_flight, dtype: int64"
      ]
     },
     "execution_count": 66,
     "metadata": {},
     "output_type": "execute_result"
    }
   ],
   "source": [
    "pas_satisfaction[pas_satisfaction['Departure Delay in Minutes'] > iqr_top]['long_flight'].value_counts()"
   ]
  },
  {
   "cell_type": "markdown",
   "id": "37576344",
   "metadata": {},
   "source": [
    "Как можно видеть, в полетах на короткие расстояние аномальных значений задержки вылета больше"
   ]
  },
  {
   "cell_type": "markdown",
   "id": "2be599a4",
   "metadata": {},
   "source": [
    "## Выводы"
   ]
  },
  {
   "cell_type": "markdown",
   "id": "b33786a6",
   "metadata": {},
   "source": [
    "Проанализировав данные опроса пассажиров об удовлетворенности авиаперевозкой, можно сделать следующие выводы:\n",
    "1. Большая часть пассажиров летает на небольшие расстояния, при этом удовлетворенность короткими аваперелетами среди пассажиров значительно ниже, из чего можно предположить, что в перелетах на длинные дистанции компании предоставляют лучший сервис и дополнительные услуги, которые влияют на удовлетворенность пассажиров\n",
    "2. Из всех опрошенных меньше половины(44%) остались довольными авиаперевозками, однако анализ осложняет выделение нейтральных и неудовлетворенных пассажиров в одну категорию, в связи с чем трудно разграничить эти две категории\n",
    "3. Более старшие по возрасту пассажиры (40-60 лет) остаются удовлетворенными поездками чаще, чем молодые, в связи с чем следует обратить внимание на то, как повысить удовлетворенность молодых людей авиаперевозками\n",
    "4. Лояльные клиенты чаще остаются довольными перелетом, поэтому стоит сделать упор на повышение лояльности авиапассажиров\n",
    "5. В бизнес классе большинство (70%) остаются довольными поездкой, в то время как в эконом классе удовлетворенных пассажиров лишь 19%, поэтому следует повышать качество предоставляемых услуг в классе эконом\n",
    "6. Время вылета также оказывает влияние на удовлетворенность поездкой: пассажиры, вылетающие вовремя скорее отанутся удовлетворенными\n",
    "7. Между исселдуемыми переменными было выявлено не так много зависимых между собой, наиболее сильная связь между временем задержкой рейса и задержкой прибытия, что яляется логичным: позже вылетел, позже прилетел\n",
    "8. Задержка рейса влияет на удовлетвореность, что показала и z-оценка: пассажиры, задержавшиеся больше среднего значения ставят баллы от 1-3 по критерию удовлетворенности врменем отправления/прибытия"
   ]
  }
 ],
 "metadata": {
  "kernelspec": {
   "display_name": "Python 3",
   "language": "python",
   "name": "python3"
  },
  "language_info": {
   "codemirror_mode": {
    "name": "ipython",
    "version": 3
   },
   "file_extension": ".py",
   "mimetype": "text/x-python",
   "name": "python",
   "nbconvert_exporter": "python",
   "pygments_lexer": "ipython3",
   "version": "3.8.8"
  }
 },
 "nbformat": 4,
 "nbformat_minor": 5
}
